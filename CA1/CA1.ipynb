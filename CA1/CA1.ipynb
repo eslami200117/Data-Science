{
 "cells": [
  {
   "cell_type": "code",
   "execution_count": 27,
   "metadata": {},
   "outputs": [],
   "source": [
    "import random\n",
    "from collections import Counter"
   ]
  },
  {
   "cell_type": "code",
   "execution_count": 28,
   "metadata": {},
   "outputs": [],
   "source": [
    "NUM_PLAYERS = 4\n",
    "BOXES = 10\n",
    "WIN_BOXES = 4"
   ]
  },
  {
   "cell_type": "code",
   "execution_count": 36,
   "metadata": {},
   "outputs": [],
   "source": [
    "class Peg:\n",
    "    def __init__(self, label: str) -> None:\n",
    "        self.label = label\n",
    "        self.position = 0\n",
    "        self.start = False\n",
    "\n",
    "    def start(self) -> None:\n",
    "        self.start = True\n",
    "    \n",
    "    @property\n",
    "    def is_start(self) -> bool:\n",
    "        return self.start\n",
    "    \n",
    "    def move(self, dice: int) -> None:\n",
    "        self.position += dice\n",
    "\n",
    "\n",
    "class Mensch:\n",
    "    def __init__(\n",
    "            self,\n",
    "            num_player: int = NUM_PLAYERS,\n",
    "            boxes: int = BOXES,\n",
    "            win_boxes: int = WIN_BOXES\n",
    "            ) -> None:\n",
    "        self.num_player = num_player\n",
    "        self.boxes = boxes\n",
    "        self.win_boxes = win_boxes\n",
    "        self.players = [Peg(f\"Player {i+1}\") for i in range(num_player)]\n",
    "\n",
    "    def roll_dice(self) -> int:\n",
    "        return random.randint(1, 6)\n",
    "    \n",
    "    def turn(self):\n",
    "        current_index = 0\n",
    "\n",
    "        while True:\n",
    "            yield self.players[current_index]\n",
    "            current_index = (current_index + 1) % self.num_player\n",
    "\n",
    "\n",
    "    def run(self) -> str:\n",
    "        while True:\n",
    "\n",
    "            for i in range(self.num_player):\n",
    "                player = self.players[i]\n",
    "                dice = self.roll_dice()\n",
    "                if not player.is_start:\n",
    "                    if dice != 6:\n",
    "                        continue\n",
    "                    else:\n",
    "                        player.start()\n",
    "                        dice = self.roll_dice()\n",
    "\n",
    "\n",
    "\n",
    "    "
   ]
  },
  {
   "cell_type": "code",
   "execution_count": 37,
   "metadata": {},
   "outputs": [],
   "source": [
    "class Mensch_Simulate:\n",
    "    def __init__(self, num_game: int = 1000) -> None:\n",
    "        self.num_game = num_game\n",
    "\n",
    "    def roll_dice(self) -> int:\n",
    "        return random.randint(1, 6)\n",
    "    \n",
    "    # def run(self) -> int:\n",
    "    #     game = Mensch()\n",
    "    #     winner = game.run()\n",
    "    #     return winner\n",
    "\n",
    "    def simulate(self) -> Counter:\n",
    "        winners = []\n",
    "        for _ in range(self.num_game):\n",
    "            winners.append(self.roll_dice())\n",
    "        return Counter(winners)\n",
    "\n",
    "        \n",
    "\n"
   ]
  },
  {
   "cell_type": "code",
   "execution_count": 38,
   "metadata": {},
   "outputs": [
    {
     "ename": "TypeError",
     "evalue": "unsupported operand type(s) for /: 'dict' and 'int'",
     "output_type": "error",
     "traceback": [
      "\u001b[1;31m---------------------------------------------------------------------------\u001b[0m",
      "\u001b[1;31mTypeError\u001b[0m                                 Traceback (most recent call last)",
      "Cell \u001b[1;32mIn[38], line 2\u001b[0m\n\u001b[0;32m      1\u001b[0m test \u001b[38;5;241m=\u001b[39m Mensch_Simulate()\n\u001b[1;32m----> 2\u001b[0m \u001b[43mtest\u001b[49m\u001b[38;5;241;43m.\u001b[39;49m\u001b[43msimulate\u001b[49m\u001b[43m(\u001b[49m\u001b[43m)\u001b[49m\n",
      "Cell \u001b[1;32mIn[37], line 17\u001b[0m, in \u001b[0;36mMensch_Simulate.simulate\u001b[1;34m(self)\u001b[0m\n\u001b[0;32m     15\u001b[0m \u001b[38;5;28;01mfor\u001b[39;00m _ \u001b[38;5;129;01min\u001b[39;00m \u001b[38;5;28mrange\u001b[39m(\u001b[38;5;28mself\u001b[39m\u001b[38;5;241m.\u001b[39mnum_game):\n\u001b[0;32m     16\u001b[0m     winners\u001b[38;5;241m.\u001b[39mappend(\u001b[38;5;28mself\u001b[39m\u001b[38;5;241m.\u001b[39mroll_dice())\n\u001b[1;32m---> 17\u001b[0m \u001b[38;5;28;01mreturn\u001b[39;00m \u001b[38;5;28;43mdict\u001b[39;49m\u001b[43m(\u001b[49m\u001b[43mCounter\u001b[49m\u001b[43m(\u001b[49m\u001b[43mwinners\u001b[49m\u001b[43m)\u001b[49m\u001b[43m)\u001b[49m\u001b[38;5;241;43m/\u001b[39;49m\u001b[38;5;28;43mself\u001b[39;49m\u001b[38;5;241;43m.\u001b[39;49m\u001b[43mnum_game\u001b[49m\n",
      "\u001b[1;31mTypeError\u001b[0m: unsupported operand type(s) for /: 'dict' and 'int'"
     ]
    }
   ],
   "source": [
    "test = Mensch_Simulate()\n",
    "test.simulate()"
   ]
  }
 ],
 "metadata": {
  "kernelspec": {
   "display_name": ".venv",
   "language": "python",
   "name": "python3"
  },
  "language_info": {
   "codemirror_mode": {
    "name": "ipython",
    "version": 3
   },
   "file_extension": ".py",
   "mimetype": "text/x-python",
   "name": "python",
   "nbconvert_exporter": "python",
   "pygments_lexer": "ipython3",
   "version": "3.11.4"
  }
 },
 "nbformat": 4,
 "nbformat_minor": 2
}
