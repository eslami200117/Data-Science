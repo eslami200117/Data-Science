{
 "cells": [
  {
   "cell_type": "markdown",
   "metadata": {},
   "source": [
    "# Monte Carlo Simulation, Central Limit Theorem and Hypothesis Tesing"
   ]
  },
  {
   "cell_type": "markdown",
   "metadata": {},
   "source": [
    "### purpose of this assignment\n",
    "- Implement Monte Carlo simulation.\n",
    "- Observe and understand the Central Limit Theorem in action.\n",
    "- Understanding how hypothesis testing can help in analyzing data and making decisions based on it in different situations."
   ]
  },
  {
   "cell_type": "code",
   "execution_count": null,
   "metadata": {},
   "outputs": [],
   "source": [
    "from  piCalculation import *\n",
    "from menschGame import *\n",
    "import numpy as np\n",
    "import matplotlib.pyplot as plt\n",
    "from scipy.stats import norm, expon, uniform"
   ]
  },
  {
   "cell_type": "markdown",
   "metadata": {},
   "source": [
    "## 1. Monte Carlo Simulation"
   ]
  },
  {
   "cell_type": "markdown",
   "metadata": {},
   "source": [
    "### 1.1 Pi Calculation\n",
    "This following code is an implementation of the Monte Carlo method to estimate the value of `pi`. The code generates a specified number of random points within a square, and then checks if each point is within a circle with a radius equal to the half of the square's side. The ratio of points inside the circle is then multiplied by 4 to get an estimate of the value of `pi`. The main function generates random points, estimates `pi`, and prints the result.\n"
   ]
  },
  {
   "cell_type": "code",
   "execution_count": null,
   "metadata": {},
   "outputs": [],
   "source": [
    "num_points = 100000\n",
    "square_side = 2\n",
    "points = generate_points(num_points, square_side)\n",
    "pi_estimate = estimate_pi(points, square_side)\n",
    "print(f\"Estimated value of Pi: {pi_estimate}\")\n",
    "print(f\"Accuracy: {round(100 - abs(math.pi - pi_estimate) / math.pi * 100, 2)}%\")"
   ]
  },
  {
   "cell_type": "markdown",
   "metadata": {},
   "source": [
    "### 1.2 Mensch Game\n",
    "I defines three classes: `Peg`, `Mensch` and `Mensch_Simulation`.\n",
    "\n",
    "#### Mensch Class:\n",
    "\n",
    "The `Mensch` class seems to be a representation of a game (possibly a simplified version of a board game similar to Ludo). Here's a breakdown of its main components:\n",
    "\n",
    "- **Attributes**:\n",
    "  - `_num_player`: Number of players in the game.\n",
    "  - `_players`: A list of player objects initialized with positions based on the number of boxes.\n",
    "  - `_current_player` and `_previous_player`: Keeps track of the current and previous player.\n",
    "  - `_winner`: Holds the label of the winning player.\n",
    "  - `_last_box`: Position of the last box on the board.\n",
    "  - `_next_player`: A generator function to determine the next player's turn.\n",
    "\n",
    "- **Methods**:\n",
    "  - `_roll_dice()`: Simulates rolling a dice and returns a number between 1 and 6.\n",
    "  - `_next_turn()`: A generator function that cycles through players to determine whose turn it is.\n",
    "  - `print_result(dice)`: Prints the current player, all players, and the dice roll.\n",
    "  - `_check_boxes()`: Checks for collisions between players and handles player movement and restarts.\n",
    "  - `run()`: Main game loop that iterates until a winner is determined.\n",
    "\n",
    "#### Mensch_Simulation Class:\n",
    "\n",
    "The `Mensch_Simulation` class is designed to simulate multiple games of `Mensch` and collect statistics on the winners:\n",
    "\n",
    "- **Attributes**:\n",
    "  - `num_game`: Number of games to simulate.\n",
    "\n",
    "- **Methods**:\n",
    "  - `run()`: Initializes a single `Mensch` game and returns the winner.\n",
    "  - `simulate()`: Runs multiple games and returns a `Counter` object that counts the number of times each player wins.\n",
    "\n"
   ]
  },
  {
   "cell_type": "code",
   "execution_count": null,
   "metadata": {},
   "outputs": [],
   "source": [
    "test = Mensch_Simulation(100000)\n",
    "test.simulate()"
   ]
  },
  {
   "cell_type": "markdown",
   "metadata": {},
   "source": [
    "## 2. Central Limit Theorem(CLT)"
   ]
  },
  {
   "cell_type": "markdown",
   "metadata": {},
   "source": [
    "The provided code demonstrates the Central Limit Theorem (CLT) through simulation. Here's a brief summary of what the code does:\n",
    "\n",
    "1. **Initialization**:\n",
    "    - `num_samples`: Number of sample means to generate for each sample size.\n",
    "    - `sample_sizes`: List of sample sizes to analyze.\n",
    "    - `distributions`: List of distributions to analyze (normal, exponential, and uniform).\n",
    "    - `xlim_ranges`: List of x-axis limits for each distribution.\n",
    "\n",
    "2. **Functions**:\n",
    "    - `generate_sample_means(distribution, sample_size)`: Generates `num_samples` sample means from a given distribution and sample size.\n",
    "    - `plot_sample_means(sample_means, sample_size, distribution, xlim_range)`: Plots the histogram of sample means and the expected normal distribution curve.\n",
    "\n",
    "3. **Simulation**:\n",
    "    - For each distribution (`norm`, `expon`, `uniform`):\n",
    "        - For each sample size in `sample_sizes`:\n",
    "            - Generate `num_samples` sample means using the `generate_sample_means` function.\n",
    "            - Plot the histogram of these sample means and overlay the expected normal distribution curve using the `plot_sample_means` function.\n",
    "\n",
    "4. **Visualization**:\n",
    "    - The code plots histograms of sample means along with the expected normal distribution curve for each distribution and sample size combination, demonstrating how the sample means approach a normal distribution as the sample size increases, consistent with the Central Limit Theorem.\n"
   ]
  },
  {
   "cell_type": "code",
   "execution_count": null,
   "metadata": {},
   "outputs": [],
   "source": [
    "num_samples = 1000\n",
    "sample_sizes = [10, 100, 500]\n",
    "\n",
    "def generate_sample_means(distribution, sample_size):\n",
    "    sample_means = []\n",
    "    for _ in range(num_samples):\n",
    "        sample = distribution.rvs(size=sample_size)\n",
    "        sample_means.append(np.mean(sample))\n",
    "    return sample_means\n",
    "\n",
    "def plot_sample_means(sample_means, sample_size, distribution, xlim_range):\n",
    "    plt.figure(figsize=(10, 6))\n",
    "    plt.hist(sample_means, bins=30, density=True, alpha=0.6, color='g', label='Sample Means Histogram')\n",
    "    \n",
    "    mu = np.mean(sample_means)\n",
    "    sigma = np.std(sample_means)\n",
    "    \n",
    "    x = np.linspace(min(sample_means), max(sample_means), 100)\n",
    "    plt.plot(x, norm.pdf(x, mu, sigma), 'r-', label='Expected Normal Distribution')\n",
    "    \n",
    "    plt.xlim(xlim_range)\n",
    "    plt.title(f'Sample Size: {sample_size}, Distribution: {distribution.name}')\n",
    "    plt.xlabel('Sample Means')\n",
    "    plt.ylabel('Density')\n",
    "    plt.legend()\n",
    "    plt.show()\n",
    "\n",
    "distributions = [norm, expon, uniform]\n",
    "xlim_ranges = [[-1, 1], [0, 2], [0.2, 0.8]]\n",
    "for distribution, xlim_range in zip(distributions, xlim_ranges):\n",
    "    print(f\"Analyzing {distribution.name} distribution...\")\n",
    "    for sample_size in sample_sizes:\n",
    "        sample_means = generate_sample_means(distribution, sample_size)\n",
    "        plot_sample_means(sample_means, sample_size, distribution, xlim_range)\n"
   ]
  }
 ],
 "metadata": {
  "kernelspec": {
   "display_name": ".venv",
   "language": "python",
   "name": "python3"
  },
  "language_info": {
   "codemirror_mode": {
    "name": "ipython",
    "version": 3
   },
   "file_extension": ".py",
   "mimetype": "text/x-python",
   "name": "python",
   "nbconvert_exporter": "python",
   "pygments_lexer": "ipython3",
   "version": "3.11.4"
  }
 },
 "nbformat": 4,
 "nbformat_minor": 2
}
