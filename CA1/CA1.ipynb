{
 "cells": [
  {
   "cell_type": "code",
   "execution_count": 1,
   "metadata": {},
   "outputs": [],
   "source": [
    "from  piCalculation import *\n",
    "from menschGame import *\n"
   ]
  },
  {
   "cell_type": "code",
   "execution_count": 32,
   "metadata": {},
   "outputs": [
    {
     "name": "stdout",
     "output_type": "stream",
     "text": [
      "Estimated value of Pi: 3.13176\n",
      "Accuracy: 99.69%\n"
     ]
    }
   ],
   "source": [
    "num_points = 100000\n",
    "square_side = 2\n",
    "points = generate_points(num_points, square_side)\n",
    "pi_estimate = estimate_pi(points, square_side)\n",
    "print(f\"Estimated value of Pi: {pi_estimate}\")\n",
    "print(f\"Accuracy: {round(100 - abs(math.pi - pi_estimate) / math.pi * 100, 2)}%\")"
   ]
  },
  {
   "cell_type": "code",
   "execution_count": 34,
   "metadata": {},
   "outputs": [
    {
     "data": {
      "text/plain": [
       "Counter({'Player 4': 26743,\n",
       "         'Player 3': 24951,\n",
       "         'Player 1': 24557,\n",
       "         'Player 2': 23749})"
      ]
     },
     "execution_count": 34,
     "metadata": {},
     "output_type": "execute_result"
    }
   ],
   "source": [
    "test = Mensch_Simulation(100000)\n",
    "test.simulate()"
   ]
  },
  {
   "cell_type": "code",
   "execution_count": null,
   "metadata": {},
   "outputs": [],
   "source": [
    "import numpy as np\n",
    "import matplotlib.pyplot as plt\n",
    "from scipy.stats import norm, expon, uniform\n",
    "\n",
    "num_samples = 1000\n",
    "\n",
    "sample_sizes = [10, 100, 1000]\n",
    "\n",
    "def generate_sample_means(distribution, sample_size):\n",
    "    sample_means = []\n",
    "    for _ in range(num_samples):\n",
    "        sample = distribution.rvs(size=sample_size)\n",
    "        sample_means.append(np.mean(sample))\n",
    "    return sample_means\n",
    "\n",
    "def plot_sample_means(sample_means, sample_size, distribution):\n",
    "    plt.figure(figsize=(10, 6))\n",
    "    plt.hist(sample_means, bins=30, density=True, alpha=0.6, color='g', label='Sample Means Histogram')\n",
    "    \n",
    "    mu = np.mean(sample_means)\n",
    "    sigma = np.std(sample_means)\n",
    "    \n",
    "    x = np.linspace(min(sample_means), max(sample_means), 100)\n",
    "    plt.plot(x, norm.pdf(x, mu, sigma), 'r-', label='Expected Normal Distribution')\n",
    "    \n",
    "    plt.title(f'Sample Size: {sample_size}, Distribution: {distribution.name}')\n",
    "    plt.xlabel('Sample Means')\n",
    "    plt.ylabel('Density')\n",
    "    plt.legend()\n",
    "    plt.show()\n",
    "\n",
    "distributions = [norm, expon, uniform]\n",
    "for distribution in distributions:\n",
    "    print(f\"Analyzing {distribution.name} distribution...\")\n",
    "    for sample_size in sample_sizes:\n",
    "        print(f\"\\tSample Size: {sample_size}\")\n",
    "        sample_means = generate_sample_means(distribution, sample_size)\n",
    "        plot_sample_means(sample_means, sample_size, distribution)\n"
   ]
  }
 ],
 "metadata": {
  "kernelspec": {
   "display_name": ".venv",
   "language": "python",
   "name": "python3"
  },
  "language_info": {
   "codemirror_mode": {
    "name": "ipython",
    "version": 3
   },
   "file_extension": ".py",
   "mimetype": "text/x-python",
   "name": "python",
   "nbconvert_exporter": "python",
   "pygments_lexer": "ipython3",
   "version": "3.11.4"
  }
 },
 "nbformat": 4,
 "nbformat_minor": 2
}
