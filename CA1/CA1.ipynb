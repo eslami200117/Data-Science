{
 "cells": [
  {
   "cell_type": "code",
   "execution_count": 1,
   "metadata": {},
   "outputs": [],
   "source": [
    "from  piCalculation import *\n",
    "from menschGame import *\n"
   ]
  },
  {
   "cell_type": "code",
   "execution_count": 3,
   "metadata": {},
   "outputs": [
    {
     "name": "stdout",
     "output_type": "stream",
     "text": [
      "Estimated value of Pi: 3.14028\n",
      "Accuracy: 0.0417830614765733%\n"
     ]
    }
   ],
   "source": [
    "num_points = 100000\n",
    "square_side = 2\n",
    "points = generate_points(num_points, square_side)\n",
    "pi_estimate = estimate_pi(points, square_side)\n",
    "print(f\"Estimated value of Pi: {pi_estimate}\")\n",
    "print(f\"Accuracy: {abs(math.pi - pi_estimate) / math.pi * 100}%\")"
   ]
  },
  {
   "cell_type": "code",
   "execution_count": 2,
   "metadata": {},
   "outputs": [
    {
     "data": {
      "text/plain": [
       "Counter({'Player 4': 2670,\n",
       "         'Player 3': 2498,\n",
       "         'Player 1': 2471,\n",
       "         'Player 2': 2361})"
      ]
     },
     "execution_count": 2,
     "metadata": {},
     "output_type": "execute_result"
    }
   ],
   "source": [
    "test = Mensch_Simulation(10000)\n",
    "test.simulate()"
   ]
  }
 ],
 "metadata": {
  "kernelspec": {
   "display_name": ".venv",
   "language": "python",
   "name": "python3"
  },
  "language_info": {
   "codemirror_mode": {
    "name": "ipython",
    "version": 3
   },
   "file_extension": ".py",
   "mimetype": "text/x-python",
   "name": "python",
   "nbconvert_exporter": "python",
   "pygments_lexer": "ipython3",
   "version": "3.11.4"
  }
 },
 "nbformat": 4,
 "nbformat_minor": 2
}
