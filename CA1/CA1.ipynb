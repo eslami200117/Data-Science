{
 "cells": [
  {
   "cell_type": "code",
   "execution_count": null,
   "metadata": {},
   "outputs": [],
   "source": [
    "import random\n",
    "from collections import Counter\n",
    "from typing import Generator, Any"
   ]
  },
  {
   "cell_type": "code",
   "execution_count": null,
   "metadata": {},
   "outputs": [],
   "source": [
    "NUM_PLAYERS = 4\n",
    "BOXES = 10\n",
    "WIN_BOXES = 4"
   ]
  },
  {
   "cell_type": "code",
   "execution_count": null,
   "metadata": {},
   "outputs": [],
   "source": [
    "class Peg:\n",
    "    def __init__(self, label: str, virtual_position: int) -> None:\n",
    "        self._label = label\n",
    "        self._position = 0\n",
    "        self._is_start = False\n",
    "        self._virtual_position = virtual_position\n",
    "\n",
    "    def __str__(self) -> str:\n",
    "        return self._label + \": \" + str(self._position) + f\"({self.virtual_position})\"\n",
    "\n",
    "    def start(self) -> None:\n",
    "        self._is_start = True\n",
    "    \n",
    "    def move(self, dice: int) -> None:\n",
    "        if (self._position + dice) <= (NUM_PLAYERS*BOXES + WIN_BOXES):\n",
    "            self._position += dice\n",
    "\n",
    "    def restart(self) -> None:\n",
    "        self._position = 0\n",
    "        self._is_start = False\n",
    "\n",
    "    @property\n",
    "    def is_start(self) -> bool:\n",
    "        return self._is_start\n",
    "    \n",
    "    @property\n",
    "    def position(self) -> int:\n",
    "        return self._position\n",
    "    \n",
    "    @property\n",
    "    def virtual_position(self) -> None:\n",
    "        return self._position + self._virtual_position\n",
    "    \n",
    "    @property\n",
    "    def label(self) -> None:\n",
    "        return self._label\n",
    " "
   ]
  },
  {
   "cell_type": "code",
   "execution_count": null,
   "metadata": {},
   "outputs": [],
   "source": [
    "class Mensch:\n",
    "    def __init__(self, num_player: int = NUM_PLAYERS, boxes: int = BOXES) -> None:\n",
    "        self._num_player = num_player\n",
    "        self._players = [Peg(f\"Player {i+1}\", boxes*i) for i in range(num_player)]\n",
    "        self._current_player = self._players[0]\n",
    "        self._previous_player = self._players[-1]\n",
    "        self._winner = None\n",
    "        self._last_box = num_player*boxes\n",
    "        self.next_player = self._next_turn()\n",
    "\n",
    "    def _roll_dice(self) -> int:\n",
    "        return random.randint(1, 6)\n",
    "    \n",
    "    def _next_turn(self) -> Generator[Any, None, None]:\n",
    "        current_index = 1\n",
    "        while True:\n",
    "            yield self._players[current_index]\n",
    "            current_index = (current_index + 1) % self._num_player\n",
    "\n",
    "\n",
    "    def _check_boxes(self) -> bool:\n",
    "        if self._previous_player.position > self._last_box:\n",
    "            self._winner = self._previous_player.label\n",
    "            return False\n",
    "        for player in self._players:\n",
    "            if player is self._previous_player:\n",
    "                continue\n",
    "            if self._previous_player.virtual_position == player.virtual_position:\n",
    "                if self._previous_player.is_start:\n",
    "                    player.restart()\n",
    "        return True\n",
    "\n",
    "    def run(self) -> str:\n",
    "        while self._check_boxes():\n",
    "            self._previous_player = self._current_player\n",
    "            dice = self._roll_dice()\n",
    "            print(self._current_player)\n",
    "            print(*self._players)\n",
    "            print(dice)\n",
    "            if not self._current_player.is_start:\n",
    "                if dice == 6:\n",
    "                    self._current_player.start()\n",
    "                    continue\n",
    "                self._current_player = next(self.next_player)\n",
    "            else:\n",
    "                self._current_player.move(dice)\n",
    "                if dice == 6:\n",
    "                    continue\n",
    "                self._current_player = next(self.next_player)\n",
    "\n",
    "        return self._winner\n"
   ]
  },
  {
   "cell_type": "code",
   "execution_count": null,
   "metadata": {},
   "outputs": [],
   "source": [
    "class Mensch_Simulate:\n",
    "    def __init__(self, num_game: int = 1000) -> None:\n",
    "        self.num_game = num_game\n",
    "\n",
    "    def roll_dice(self) -> int:\n",
    "        return random.randint(1, 6)\n",
    "    \n",
    "    def run(self) -> int:\n",
    "        game = Mensch()\n",
    "        winner = game.run()\n",
    "        return winner\n",
    "\n",
    "    def simulate(self) -> Counter:\n",
    "        winners = []\n",
    "        for _ in range(self.num_game):\n",
    "            winners.append(self.run())\n",
    "        return Counter(winners)\n",
    "\n",
    "        \n",
    "\n"
   ]
  },
  {
   "cell_type": "code",
   "execution_count": null,
   "metadata": {},
   "outputs": [],
   "source": [
    "test = Mensch_Simulate(1)\n",
    "test.simulate()"
   ]
  }
 ],
 "metadata": {
  "kernelspec": {
   "display_name": ".venv",
   "language": "python",
   "name": "python3"
  },
  "language_info": {
   "codemirror_mode": {
    "name": "ipython",
    "version": 3
   },
   "file_extension": ".py",
   "mimetype": "text/x-python",
   "name": "python",
   "nbconvert_exporter": "python",
   "pygments_lexer": "ipython3",
   "version": "3.11.4"
  }
 },
 "nbformat": 4,
 "nbformat_minor": 2
}
