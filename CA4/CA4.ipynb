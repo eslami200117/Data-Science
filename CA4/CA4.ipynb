{
 "cells": [
  {
   "cell_type": "markdown",
   "metadata": {},
   "source": [
    "# Loss Function and Gradient Descent"
   ]
  },
  {
   "cell_type": "code",
   "execution_count": 37,
   "metadata": {},
   "outputs": [],
   "source": [
    "from sklearn.datasets import load_diabetes\n",
    "from sklearn.model_selection import train_test_split\n",
    "from sklearn.preprocessing import MinMaxScaler\n",
    "\n",
    "import numpy as np\n",
    "import pandas as pd\n",
    "import matplotlib.pyplot as plt"
   ]
  },
  {
   "cell_type": "code",
   "execution_count": 2,
   "metadata": {},
   "outputs": [],
   "source": [
    "diabetes = load_diabetes()"
   ]
  },
  {
   "cell_type": "markdown",
   "metadata": {},
   "source": [
    "## Warm-Up!\n"
   ]
  },
  {
   "cell_type": "code",
   "execution_count": 8,
   "metadata": {},
   "outputs": [
    {
     "name": "stdout",
     "output_type": "stream",
     "text": [
      "[[ 0.03807591  0.05068012  0.06169621  0.02187239 -0.0442235  -0.03482076\n",
      "  -0.04340085 -0.00259226  0.01990749 -0.01764613]\n",
      " [-0.00188202 -0.04464164 -0.05147406 -0.02632753 -0.00844872 -0.01916334\n",
      "   0.07441156 -0.03949338 -0.06833155 -0.09220405]\n",
      " [ 0.08529891  0.05068012  0.04445121 -0.00567042 -0.04559945 -0.03419447\n",
      "  -0.03235593 -0.00259226  0.00286131 -0.02593034]\n",
      " [-0.08906294 -0.04464164 -0.01159501 -0.03665608  0.01219057  0.02499059\n",
      "  -0.03603757  0.03430886  0.02268774 -0.00936191]\n",
      " [ 0.00538306 -0.04464164 -0.03638469  0.02187239  0.00393485  0.01559614\n",
      "   0.00814208 -0.00259226 -0.03198764 -0.04664087]\n",
      " [-0.09269548 -0.04464164 -0.04069594 -0.01944183 -0.06899065 -0.07928784\n",
      "   0.04127682 -0.0763945  -0.04117617 -0.09634616]\n",
      " [-0.04547248  0.05068012 -0.04716281 -0.01599898 -0.04009564 -0.02480001\n",
      "   0.00077881 -0.03949338 -0.06291688 -0.03835666]\n",
      " [ 0.06350368  0.05068012 -0.00189471  0.06662945  0.09061988  0.10891438\n",
      "   0.02286863  0.01770335 -0.03581619  0.00306441]\n",
      " [ 0.04170844  0.05068012  0.06169621 -0.04009893 -0.01395254  0.00620169\n",
      "  -0.02867429 -0.00259226 -0.01495969  0.01134862]\n",
      " [-0.07090025 -0.04464164  0.03906215 -0.03321323 -0.01257658 -0.03450761\n",
      "  -0.02499266 -0.00259226  0.06773705 -0.01350402]]\n",
      "[151.  75. 141. 206. 135.  97. 138.  63. 110. 310.]\n"
     ]
    }
   ],
   "source": [
    "print(diabetes.data[:10])\n",
    "print(diabetes.target[:10])"
   ]
  },
  {
   "cell_type": "code",
   "execution_count": 13,
   "metadata": {},
   "outputs": [
    {
     "name": "stdout",
     "output_type": "stream",
     "text": [
      "Feature names and their data types:\n",
      "age: float64\n",
      "sex: float64\n",
      "bmi: float64\n",
      "bp: float64\n",
      "s1: float64\n",
      "s2: float64\n",
      "s3: float64\n",
      "s4: float64\n",
      "s5: float64\n",
      "s6: float64\n"
     ]
    }
   ],
   "source": [
    "print(\"Feature names and their data types:\")\n",
    "for feature_name, dtype in zip(diabetes.feature_names, diabetes.data[0]):\n",
    "    print(f\"{feature_name}: {type(dtype).__name__}\")"
   ]
  },
  {
   "cell_type": "code",
   "execution_count": 16,
   "metadata": {},
   "outputs": [
    {
     "name": "stdout",
     "output_type": "stream",
     "text": [
      "Missing values per feature:\n",
      "age    0\n",
      "sex    0\n",
      "bmi    0\n",
      "bp     0\n",
      "s1     0\n",
      "s2     0\n",
      "s3     0\n",
      "s4     0\n",
      "s5     0\n",
      "s6     0\n",
      "dtype: int64\n",
      "\n",
      "No missing values found.\n"
     ]
    }
   ],
   "source": [
    "df = pd.DataFrame(diabetes.data, columns=diabetes.feature_names)\n",
    "missing_values = df.isnull().sum()\n",
    "\n",
    "print(\"Missing values per feature:\")\n",
    "print(missing_values)\n",
    "\n",
    "if missing_values.sum() > 0:\n",
    "    df.fillna(df.mean(), inplace=True)\n",
    "\n",
    "    print(\"\\nMissing values after handling:\")\n",
    "    print(df.isnull().sum())\n",
    "else:\n",
    "    print(\"\\nNo missing values found.\")"
   ]
  },
  {
   "cell_type": "code",
   "execution_count": 18,
   "metadata": {},
   "outputs": [
    {
     "name": "stdout",
     "output_type": "stream",
     "text": [
      "Min-Max scaled data:\n",
      "[[0.66666667 1.         0.58264463 0.54929577 0.29411765 0.25697211\n",
      "  0.20779221 0.28208745 0.562217   0.43939394]\n",
      " [0.48333333 0.         0.14876033 0.35211268 0.42156863 0.30677291\n",
      "  0.62337662 0.14104372 0.22243673 0.16666667]\n",
      " [0.88333333 1.         0.51652893 0.43661972 0.28921569 0.25896414\n",
      "  0.24675325 0.28208745 0.49657763 0.40909091]\n",
      " [0.08333333 0.         0.30165289 0.30985915 0.49509804 0.44721116\n",
      "  0.23376623 0.42313117 0.57292288 0.46969697]\n",
      " [0.51666667 0.         0.20661157 0.54929577 0.46568627 0.41733068\n",
      "  0.38961039 0.28208745 0.36238548 0.33333333]]\n"
     ]
    }
   ],
   "source": [
    "df = pd.DataFrame(diabetes.data, columns=diabetes.feature_names)\n",
    "\n",
    "scaler = MinMaxScaler()\n",
    "df_scaled = scaler.fit_transform(df)\n",
    "\n",
    "diabetes.data = df_scaled\n",
    "\n",
    "print(\"Min-Max scaled data:\")\n",
    "print(df_scaled[:5])"
   ]
  },
  {
   "cell_type": "code",
   "execution_count": 21,
   "metadata": {},
   "outputs": [
    {
     "name": "stdout",
     "output_type": "stream",
     "text": [
      "Training set shape: (419, 10) (419,)\n",
      "Testing set shape: (23, 10) (23,)\n"
     ]
    }
   ],
   "source": [
    "X_train, X_test, y_train, y_test = train_test_split(diabetes.data, diabetes.target, test_size=0.05, random_state=42)\n",
    "\n",
    "print(\"Training set shape:\", X_train.shape, y_train.shape)\n",
    "print(\"Testing set shape:\", X_test.shape, y_test.shape)"
   ]
  },
  {
   "cell_type": "markdown",
   "metadata": {},
   "source": [
    "## Main Task"
   ]
  },
  {
   "cell_type": "markdown",
   "metadata": {},
   "source": [
    "### Part 1: Fuctions' Implementation"
   ]
  },
  {
   "cell_type": "markdown",
   "metadata": {},
   "source": [
    "#### MSE"
   ]
  },
  {
   "cell_type": "code",
   "execution_count": 23,
   "metadata": {},
   "outputs": [],
   "source": [
    "def mean_squared_error(y_true, y_pred):\n",
    "    return np.average((y_true - y_pred) ** 2)"
   ]
  },
  {
   "cell_type": "markdown",
   "metadata": {},
   "source": [
    "#### MAE"
   ]
  },
  {
   "cell_type": "code",
   "execution_count": 52,
   "metadata": {},
   "outputs": [],
   "source": [
    "def mean_absolute_error(y_true, y_pred):\n",
    "    return np.average(np.abs(y_pred - y_true), axis=0)"
   ]
  },
  {
   "cell_type": "markdown",
   "metadata": {},
   "source": [
    "#### RMSE"
   ]
  },
  {
   "cell_type": "code",
   "execution_count": 53,
   "metadata": {},
   "outputs": [],
   "source": [
    "def root_mean_squared_error(y_true, y_pred):\n",
    "    return np.sqrt(\n",
    "        mean_squared_error(\n",
    "            y_true, y_pred\n",
    "        )\n",
    "    )"
   ]
  },
  {
   "cell_type": "markdown",
   "metadata": {},
   "source": [
    "#### $R^2$ Score"
   ]
  },
  {
   "cell_type": "code",
   "execution_count": 27,
   "metadata": {},
   "outputs": [],
   "source": [
    "def r2_score(y_true, y_pred):    \n",
    "    return 1 - (np.sum((y_true - y_pred) ** 2) / np.sum((y_true - np.mean(y_true)) ** 2))\n",
    "    \n",
    "    "
   ]
  },
  {
   "cell_type": "markdown",
   "metadata": {},
   "source": [
    "### Part 2: Building and Training the Linear Regression Model"
   ]
  },
  {
   "cell_type": "code",
   "execution_count": 54,
   "metadata": {},
   "outputs": [],
   "source": [
    "\n",
    "class CustomRegression:\n",
    "    \"\"\"\n",
    "    A custom implementation of linear regression using the pseudo-inverse method.\n",
    "\n",
    "    Attributes:\n",
    "        coefficients (np.ndarray): Weight vector representing the coefficients of the linear regression model.\n",
    "        y_pred (np.ndarray): Vector representing the predictions made by the model.\n",
    "\n",
    "    Methods:\n",
    "        fit(X, T):\n",
    "            Perform linear regression using the pseudo-inverse method.\n",
    "        \n",
    "        predict(X):\n",
    "            Predict the values for the given data matrix.\n",
    "        \n",
    "        score(y_true):\n",
    "            Calculate evaluation metrics such as mean, maximum, minimum, RMSE, and R^2 for the model predictions.\n",
    "    \"\"\"\n",
    "\n",
    "    def __init__(self) -> None:\n",
    "        self.coefficients: np.ndarray = None\n",
    "        self.y_pred: np.ndarray = None\n",
    "\n",
    "    def __str__(self):\n",
    "        return 'CustomRegression'\n",
    "    \n",
    "    def fit(self, X: np.ndarray, T: np.ndarray) -> 'CustomRegression':\n",
    "        \"\"\"\n",
    "        Perform linear regression using the pseudo-inverse method.\n",
    "\n",
    "        Args:\n",
    "            X (np.ndarray): Input feature matrix of shape (n_samples, n_features).\n",
    "            T (np.ndarray): Target variable vector of shape (n_samples,).\n",
    "\n",
    "        Returns:\n",
    "            CustomRegression: The fitted CustomRegression instance.\n",
    "\n",
    "        Raises:\n",
    "            ValueError: If the shapes of X and T are incompatible.\n",
    "        \"\"\"\n",
    "\n",
    "        assert X.ndim == 2, \"X must be a 2-dimensional array.\"\n",
    "        assert T.ndim == 1, \"T must be a 1-dimensional array.\"\n",
    "        assert X.shape[0] == T.shape[0], \"Number of samples in X and T must be equal.\"\n",
    "\n",
    "        ones_column = np.ones((X.shape[0], 1))\n",
    "        X = np.column_stack((ones_column, X))\n",
    "        X_pinv = np.linalg.pinv(X)\n",
    "        self.coefficients = np.dot(X_pinv, T)\n",
    "\n",
    "        return self\n",
    "    \n",
    "    def predict(self, X: np.ndarray) -> np.ndarray:\n",
    "        \"\"\"\n",
    "        Predict the values for the given data matrix.\n",
    "\n",
    "        Args:\n",
    "            X (np.ndarray): Input feature matrix of shape (n_samples, n_features).\n",
    "\n",
    "        Returns:\n",
    "            np.ndarray: A vector representing the predictions for the input X.\n",
    "\n",
    "        Raises:\n",
    "            ValueError: If the shapes of X and the coefficient vector are incompatible.\n",
    "        \"\"\"\n",
    "        assert X.ndim == 2, \"X must be a 2-dimensional array.\"\n",
    "        assert X.shape[1]+1 == self.coefficients.shape[0], \"Number of features in X and coefficients must be equal.\"\n",
    "\n",
    "        ones_column = np.ones((X.shape[0], 1))\n",
    "        X = np.column_stack((ones_column, X))\n",
    "        self.y_pred = np.dot(X, self.coefficients)\n",
    "  \n",
    "        return self.y_pred\n",
    "    \n",
    "    def score(self, y_true: np.ndarray) -> dict:\n",
    "        \"\"\"\n",
    "        Calculate evaluation metrics such as mean, maximum, minimum, RMSE, and R^2 for the model predictions.\n",
    "\n",
    "        Args:\n",
    "            y_true (np.ndarray): Target variable vector of shape (n_samples,).\n",
    "\n",
    "        Returns:\n",
    "            dict: A dictionary containing evaluation metrics:\n",
    "                - 'mean': Mean value of y_true.\n",
    "                - 'maximum': Maximum value of y_true.\n",
    "                - 'minimum': Minimum value of y_true.\n",
    "                - 'RMSE': Root Mean Squared Error between y_true and the model predictions.\n",
    "                - 'R2': Coefficient of Determination (R^2) between y_true and the model predictions.\n",
    "\n",
    "        Raises:\n",
    "            ValueError: If the shapes of y_true and self.y_pred are incompatible.\n",
    "        \"\"\"\n",
    "        assert y_true.shape[0] == self.y_pred.shape[0], \"Number of samples in y_true and self.y_pred must be equal.\"\n",
    "\n",
    "        return {\n",
    "            \"MSE\": f\"{mean_squared_error(y_true, self.y_pred):.3f}\",\n",
    "            \"MAE\": f\"{mean_absolute_error(y_true, self.y_pred):.3f}\",\n",
    "            \"RMSE\": f\"{mean_squared_error(y_true, self.y_pred):.3f}\",\n",
    "            \"R2\": f\"{r2_score(y_true, self.y_pred):.3f}\",\n",
    "        }"
   ]
  },
  {
   "cell_type": "code",
   "execution_count": 47,
   "metadata": {},
   "outputs": [],
   "source": [
    "linear_model = CustomRegression()"
   ]
  },
  {
   "cell_type": "code",
   "execution_count": 48,
   "metadata": {},
   "outputs": [
    {
     "data": {
      "text/plain": [
       "<__main__.CustomRegression at 0x21be49b2310>"
      ]
     },
     "execution_count": 48,
     "metadata": {},
     "output_type": "execute_result"
    }
   ],
   "source": [
    "linear_model.fit(X_train, y_train)"
   ]
  },
  {
   "cell_type": "markdown",
   "metadata": {},
   "source": [
    "### Part 3: Model Evaluation"
   ]
  },
  {
   "cell_type": "code",
   "execution_count": 49,
   "metadata": {},
   "outputs": [],
   "source": [
    "y_pred = linear_model.predict(X_test)"
   ]
  },
  {
   "cell_type": "code",
   "execution_count": 50,
   "metadata": {},
   "outputs": [
    {
     "data": {
      "image/png": "[encoded data removed]",
      "text/plain": [
       "<Figure size 800x600 with 1 Axes>"
      ]
     },
     "metadata": {},
     "output_type": "display_data"
    }
   ],
   "source": [
    "plt.figure(figsize=(8, 6))\n",
    "plt.scatter(y_test, y_pred, c='blue', edgecolors='k')\n",
    "plt.plot([y_test.min(), y_test.max()], [y_test.min(), y_test.max()], 'r--', lw=2)\n",
    "plt.xlabel('Actual Progression Measures')\n",
    "plt.ylabel('Predicted Progression Measures')\n",
    "plt.title('Actual vs Predicted Progression Measures')\n",
    "plt.grid(True)\n",
    "plt.show()"
   ]
  },
  {
   "cell_type": "code",
   "execution_count": 56,
   "metadata": {},
   "outputs": [
    {
     "data": {
      "text/plain": [
       "{'MSE': '2831.220', 'MAE': '42.964', 'RMSE': '2831.220', 'R2': '0.514'}"
      ]
     },
     "execution_count": 56,
     "metadata": {},
     "output_type": "execute_result"
    }
   ],
   "source": [
    "linear_model.predict(X_train)\n",
    "linear_model.score(y_train)"
   ]
  },
  {
   "cell_type": "code",
   "execution_count": 55,
   "metadata": {},
   "outputs": [
    {
     "data": {
      "text/plain": [
       "{'MSE': '3516.111', 'MAE': '49.278', 'RMSE': '3516.111', 'R2': '0.516'}"
      ]
     },
     "execution_count": 55,
     "metadata": {},
     "output_type": "execute_result"
    }
   ],
   "source": [
    "linear_model.predict(X_test)\n",
    "linear_model.score(y_test)"
   ]
  }
 ],
 "metadata": {
  "kernelspec": {
   "display_name": ".venv",
   "language": "python",
   "name": "python3"
  },
  "language_info": {
   "codemirror_mode": {
    "name": "ipython",
    "version": 3
   },
   "file_extension": ".py",
   "mimetype": "text/x-python",
   "name": "python",
   "nbconvert_exporter": "python",
   "pygments_lexer": "ipython3",
   "version": "3.11.4"
  }
 },
 "nbformat": 4,
 "nbformat_minor": 2
}
