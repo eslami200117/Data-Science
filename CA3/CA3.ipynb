{
 "cells": [
  {
   "cell_type": "code",
   "execution_count": 2,
   "metadata": {},
   "outputs": [
    {
     "data": {
      "text/html": [
       "<style>pre { white-space: pre !important; }</style>"
      ],
      "text/plain": [
       "<IPython.core.display.HTML object>"
      ]
     },
     "metadata": {},
     "output_type": "display_data"
    }
   ],
   "source": [
    "from IPython.display import display, HTML\n",
    "display(HTML('<style>pre { white-space: pre !important; }</style>'))"
   ]
  },
  {
   "cell_type": "code",
   "execution_count": 7,
   "metadata": {},
   "outputs": [
    {
     "name": "stdout",
     "output_type": "stream",
     "text": [
      "root\n",
      " |-- Date: string (nullable = true)\n",
      " |-- Open: string (nullable = true)\n",
      " |-- High: string (nullable = true)\n",
      " |-- Low: string (nullable = true)\n",
      " |-- Close: string (nullable = true)\n",
      " |-- Volume: string (nullable = true)\n",
      " |-- Adj Close: string (nullable = true)\n",
      "\n"
     ]
    }
   ],
   "source": [
    "import findspark\n",
    "findspark.init()\n",
    "\n",
    "import pyspark # only run after findspark.init()\n",
    "from pyspark.sql import SparkSession\n",
    "\n",
    "spark = SparkSession.builder \\\n",
    "    .appName(\"StockMarketAnalysis\") \\\n",
    "    .getOrCreate()\n",
    "\n",
    "stocks_df = spark.read.csv(\"stocks.csv\", header=True)\n",
    "\n",
    "stocks_df.printSchema()"
   ]
  },
  {
   "cell_type": "code",
   "execution_count": 9,
   "metadata": {},
   "outputs": [
    {
     "name": "stdout",
     "output_type": "stream",
     "text": [
      "Number of rows: 1359\n",
      "+------------------+------------------+---------+\n",
      "|              Open|             Close|   Volume|\n",
      "+------------------+------------------+---------+\n",
      "|        213.429998|        214.009998|123432400|\n",
      "|        214.599998|        214.379993|150476200|\n",
      "|        214.379993|        210.969995|138040000|\n",
      "|            211.75|            210.58|119282800|\n",
      "|        210.299994|211.98000499999998|111902700|\n",
      "|212.79999700000002|210.11000299999998|115557400|\n",
      "|209.18999499999998|        207.720001|148614900|\n",
      "|        207.870005|        210.650002|151473000|\n",
      "|210.11000299999998|            209.43|108223500|\n",
      "|210.92999500000002|            205.93|148516900|\n",
      "|        208.330002|        215.039995|182501900|\n",
      "|        214.910006|            211.73|153038200|\n",
      "|        212.079994|        208.069996|152038600|\n",
      "|206.78000600000001|            197.75|220441900|\n",
      "|202.51000200000001|        203.070002|266424900|\n",
      "|205.95000100000001|        205.940001|466777500|\n",
      "|        206.849995|        207.880005|430642100|\n",
      "|        204.930004|        199.289995|293375600|\n",
      "|        201.079996|        192.060003|311488100|\n",
      "|192.36999699999998|        194.729998|187469100|\n",
      "+------------------+------------------+---------+\n",
      "only showing top 20 rows\n",
      "\n"
     ]
    }
   ],
   "source": [
    "filtered_by_closing_price = stocks_df.filter(stocks_df[\"Close\"] < 500)\n",
    "\n",
    "selected_columns_df = filtered_by_closing_price.select(\"Open\", \"Close\", \"Volume\")\n",
    "\n",
    "# Define utility function to show DataFrame rows\n",
    "def show_df_info(df):\n",
    "    df_count = df.count()\n",
    "    print(f\"Number of rows: {df_count}\")\n",
    "    df.show()\n",
    "\n",
    "# Show selected columns\n",
    "show_df_info(selected_columns_df)"
   ]
  }
 ],
 "metadata": {
  "kernelspec": {
   "display_name": ".venv",
   "language": "python",
   "name": "python3"
  },
  "language_info": {
   "codemirror_mode": {
    "name": "ipython",
    "version": 3
   },
   "file_extension": ".py",
   "mimetype": "text/x-python",
   "name": "python",
   "nbconvert_exporter": "python",
   "pygments_lexer": "ipython3",
   "version": "3.11.8"
  }
 },
 "nbformat": 4,
 "nbformat_minor": 2
}
