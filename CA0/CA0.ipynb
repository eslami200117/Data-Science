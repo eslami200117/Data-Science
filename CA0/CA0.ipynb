{
 "cells": [
  {
   "cell_type": "markdown",
   "metadata": {},
   "source": [
    "# Web Scraping and Introductory Data Analysis\n",
    "// purpose of assintment\n"
   ]
  },
  {
   "cell_type": "markdown",
   "metadata": {},
   "source": [
    "// summary of what we're going to do"
   ]
  },
  {
   "cell_type": "code",
   "execution_count": 1,
   "metadata": {},
   "outputs": [
    {
     "name": "stdout",
     "output_type": "stream",
     "text": [
      "Requirement already satisfied: asttokens==2.4.1 in /home/eslami/Desktop/UT/Data Science/.venv/lib/python3.12/site-packages (from -r ./../requirements.txt (line 1)) (2.4.1)\n",
      "Requirement already satisfied: attrs==23.2.0 in /home/eslami/Desktop/UT/Data Science/.venv/lib/python3.12/site-packages (from -r ./../requirements.txt (line 2)) (23.2.0)\n",
      "Requirement already satisfied: beautifulsoup4==4.12.3 in /home/eslami/Desktop/UT/Data Science/.venv/lib/python3.12/site-packages (from -r ./../requirements.txt (line 3)) (4.12.3)\n",
      "Requirement already satisfied: bs4==0.0.2 in /home/eslami/Desktop/UT/Data Science/.venv/lib/python3.12/site-packages (from -r ./../requirements.txt (line 4)) (0.0.2)\n",
      "Requirement already satisfied: certifi==2024.2.2 in /home/eslami/Desktop/UT/Data Science/.venv/lib/python3.12/site-packages (from -r ./../requirements.txt (line 5)) (2024.2.2)\n",
      "Requirement already satisfied: charset-normalizer==3.3.2 in /home/eslami/Desktop/UT/Data Science/.venv/lib/python3.12/site-packages (from -r ./../requirements.txt (line 6)) (3.3.2)\n",
      "Requirement already satisfied: comm==0.2.1 in /home/eslami/Desktop/UT/Data Science/.venv/lib/python3.12/site-packages (from -r ./../requirements.txt (line 7)) (0.2.1)\n",
      "Requirement already satisfied: contourpy==1.2.0 in /home/eslami/Desktop/UT/Data Science/.venv/lib/python3.12/site-packages (from -r ./../requirements.txt (line 8)) (1.2.0)\n",
      "Requirement already satisfied: cycler==0.12.1 in /home/eslami/Desktop/UT/Data Science/.venv/lib/python3.12/site-packages (from -r ./../requirements.txt (line 9)) (0.12.1)\n",
      "Requirement already satisfied: debugpy==1.8.1 in /home/eslami/Desktop/UT/Data Science/.venv/lib/python3.12/site-packages (from -r ./../requirements.txt (line 10)) (1.8.1)\n",
      "Requirement already satisfied: decorator==5.1.1 in /home/eslami/Desktop/UT/Data Science/.venv/lib/python3.12/site-packages (from -r ./../requirements.txt (line 11)) (5.1.1)\n",
      "Requirement already satisfied: executing==2.0.1 in /home/eslami/Desktop/UT/Data Science/.venv/lib/python3.12/site-packages (from -r ./../requirements.txt (line 12)) (2.0.1)\n",
      "Requirement already satisfied: fonttools==4.49.0 in /home/eslami/Desktop/UT/Data Science/.venv/lib/python3.12/site-packages (from -r ./../requirements.txt (line 13)) (4.49.0)\n",
      "Requirement already satisfied: h11==0.14.0 in /home/eslami/Desktop/UT/Data Science/.venv/lib/python3.12/site-packages (from -r ./../requirements.txt (line 14)) (0.14.0)\n",
      "Requirement already satisfied: idna==3.6 in /home/eslami/Desktop/UT/Data Science/.venv/lib/python3.12/site-packages (from -r ./../requirements.txt (line 15)) (3.6)\n",
      "Requirement already satisfied: ipykernel==6.29.3 in /home/eslami/Desktop/UT/Data Science/.venv/lib/python3.12/site-packages (from -r ./../requirements.txt (line 16)) (6.29.3)\n",
      "Requirement already satisfied: ipython==8.22.1 in /home/eslami/Desktop/UT/Data Science/.venv/lib/python3.12/site-packages (from -r ./../requirements.txt (line 17)) (8.22.1)\n",
      "Requirement already satisfied: jedi==0.19.1 in /home/eslami/Desktop/UT/Data Science/.venv/lib/python3.12/site-packages (from -r ./../requirements.txt (line 18)) (0.19.1)\n",
      "Requirement already satisfied: jupyter_client==8.6.0 in /home/eslami/Desktop/UT/Data Science/.venv/lib/python3.12/site-packages (from -r ./../requirements.txt (line 19)) (8.6.0)\n",
      "Requirement already satisfied: jupyter_core==5.7.1 in /home/eslami/Desktop/UT/Data Science/.venv/lib/python3.12/site-packages (from -r ./../requirements.txt (line 20)) (5.7.1)\n",
      "Requirement already satisfied: kiwisolver==1.4.5 in /home/eslami/Desktop/UT/Data Science/.venv/lib/python3.12/site-packages (from -r ./../requirements.txt (line 21)) (1.4.5)\n",
      "Requirement already satisfied: lxml==5.1.0 in /home/eslami/Desktop/UT/Data Science/.venv/lib/python3.12/site-packages (from -r ./../requirements.txt (line 22)) (5.1.0)\n",
      "Requirement already satisfied: matplotlib==3.8.3 in /home/eslami/Desktop/UT/Data Science/.venv/lib/python3.12/site-packages (from -r ./../requirements.txt (line 23)) (3.8.3)\n",
      "Requirement already satisfied: matplotlib-inline==0.1.6 in /home/eslami/Desktop/UT/Data Science/.venv/lib/python3.12/site-packages (from -r ./../requirements.txt (line 24)) (0.1.6)\n",
      "Requirement already satisfied: nest-asyncio==1.6.0 in /home/eslami/Desktop/UT/Data Science/.venv/lib/python3.12/site-packages (from -r ./../requirements.txt (line 25)) (1.6.0)\n",
      "Requirement already satisfied: numpy==1.26.4 in /home/eslami/Desktop/UT/Data Science/.venv/lib/python3.12/site-packages (from -r ./../requirements.txt (line 26)) (1.26.4)\n",
      "Requirement already satisfied: outcome==1.3.0.post0 in /home/eslami/Desktop/UT/Data Science/.venv/lib/python3.12/site-packages (from -r ./../requirements.txt (line 27)) (1.3.0.post0)\n",
      "Requirement already satisfied: packaging==23.2 in /home/eslami/Desktop/UT/Data Science/.venv/lib/python3.12/site-packages (from -r ./../requirements.txt (line 28)) (23.2)\n",
      "Requirement already satisfied: pandas==2.2.1 in /home/eslami/Desktop/UT/Data Science/.venv/lib/python3.12/site-packages (from -r ./../requirements.txt (line 29)) (2.2.1)\n",
      "Requirement already satisfied: parso==0.8.3 in /home/eslami/Desktop/UT/Data Science/.venv/lib/python3.12/site-packages (from -r ./../requirements.txt (line 30)) (0.8.3)\n",
      "Requirement already satisfied: pexpect==4.9.0 in /home/eslami/Desktop/UT/Data Science/.venv/lib/python3.12/site-packages (from -r ./../requirements.txt (line 31)) (4.9.0)\n",
      "Requirement already satisfied: pillow==10.2.0 in /home/eslami/Desktop/UT/Data Science/.venv/lib/python3.12/site-packages (from -r ./../requirements.txt (line 32)) (10.2.0)\n",
      "Requirement already satisfied: platformdirs==4.2.0 in /home/eslami/Desktop/UT/Data Science/.venv/lib/python3.12/site-packages (from -r ./../requirements.txt (line 33)) (4.2.0)\n",
      "Requirement already satisfied: prompt-toolkit==3.0.43 in /home/eslami/Desktop/UT/Data Science/.venv/lib/python3.12/site-packages (from -r ./../requirements.txt (line 34)) (3.0.43)\n",
      "Requirement already satisfied: psutil==5.9.8 in /home/eslami/Desktop/UT/Data Science/.venv/lib/python3.12/site-packages (from -r ./../requirements.txt (line 35)) (5.9.8)\n",
      "Requirement already satisfied: ptyprocess==0.7.0 in /home/eslami/Desktop/UT/Data Science/.venv/lib/python3.12/site-packages (from -r ./../requirements.txt (line 36)) (0.7.0)\n",
      "Requirement already satisfied: pure-eval==0.2.2 in /home/eslami/Desktop/UT/Data Science/.venv/lib/python3.12/site-packages (from -r ./../requirements.txt (line 37)) (0.2.2)\n",
      "Requirement already satisfied: Pygments==2.17.2 in /home/eslami/Desktop/UT/Data Science/.venv/lib/python3.12/site-packages (from -r ./../requirements.txt (line 38)) (2.17.2)\n",
      "Requirement already satisfied: pyparsing==3.1.1 in /home/eslami/Desktop/UT/Data Science/.venv/lib/python3.12/site-packages (from -r ./../requirements.txt (line 39)) (3.1.1)\n",
      "Requirement already satisfied: PySocks==1.7.1 in /home/eslami/Desktop/UT/Data Science/.venv/lib/python3.12/site-packages (from -r ./../requirements.txt (line 40)) (1.7.1)\n",
      "Requirement already satisfied: python-dateutil==2.8.2 in /home/eslami/Desktop/UT/Data Science/.venv/lib/python3.12/site-packages (from -r ./../requirements.txt (line 41)) (2.8.2)\n",
      "Requirement already satisfied: pytz==2024.1 in /home/eslami/Desktop/UT/Data Science/.venv/lib/python3.12/site-packages (from -r ./../requirements.txt (line 42)) (2024.1)\n",
      "Requirement already satisfied: pyzmq==25.1.2 in /home/eslami/Desktop/UT/Data Science/.venv/lib/python3.12/site-packages (from -r ./../requirements.txt (line 43)) (25.1.2)\n",
      "Requirement already satisfied: requests==2.31.0 in /home/eslami/Desktop/UT/Data Science/.venv/lib/python3.12/site-packages (from -r ./../requirements.txt (line 44)) (2.31.0)\n",
      "Requirement already satisfied: seaborn==0.13.2 in /home/eslami/Desktop/UT/Data Science/.venv/lib/python3.12/site-packages (from -r ./../requirements.txt (line 45)) (0.13.2)\n",
      "Requirement already satisfied: selenium==4.18.1 in /home/eslami/Desktop/UT/Data Science/.venv/lib/python3.12/site-packages (from -r ./../requirements.txt (line 46)) (4.18.1)\n",
      "Requirement already satisfied: six==1.16.0 in /home/eslami/Desktop/UT/Data Science/.venv/lib/python3.12/site-packages (from -r ./../requirements.txt (line 47)) (1.16.0)\n",
      "Requirement already satisfied: sniffio==1.3.1 in /home/eslami/Desktop/UT/Data Science/.venv/lib/python3.12/site-packages (from -r ./../requirements.txt (line 48)) (1.3.1)\n",
      "Requirement already satisfied: sortedcontainers==2.4.0 in /home/eslami/Desktop/UT/Data Science/.venv/lib/python3.12/site-packages (from -r ./../requirements.txt (line 49)) (2.4.0)\n",
      "Requirement already satisfied: soupsieve==2.5 in /home/eslami/Desktop/UT/Data Science/.venv/lib/python3.12/site-packages (from -r ./../requirements.txt (line 50)) (2.5)\n",
      "Requirement already satisfied: stack-data==0.6.3 in /home/eslami/Desktop/UT/Data Science/.venv/lib/python3.12/site-packages (from -r ./../requirements.txt (line 51)) (0.6.3)\n",
      "Requirement already satisfied: tornado==6.4 in /home/eslami/Desktop/UT/Data Science/.venv/lib/python3.12/site-packages (from -r ./../requirements.txt (line 52)) (6.4)\n",
      "Requirement already satisfied: traitlets==5.14.1 in /home/eslami/Desktop/UT/Data Science/.venv/lib/python3.12/site-packages (from -r ./../requirements.txt (line 53)) (5.14.1)\n",
      "Requirement already satisfied: trio==0.24.0 in /home/eslami/Desktop/UT/Data Science/.venv/lib/python3.12/site-packages (from -r ./../requirements.txt (line 54)) (0.24.0)\n",
      "Requirement already satisfied: trio-websocket==0.11.1 in /home/eslami/Desktop/UT/Data Science/.venv/lib/python3.12/site-packages (from -r ./../requirements.txt (line 55)) (0.11.1)\n",
      "Requirement already satisfied: typing_extensions==4.10.0 in /home/eslami/Desktop/UT/Data Science/.venv/lib/python3.12/site-packages (from -r ./../requirements.txt (line 56)) (4.10.0)\n",
      "Requirement already satisfied: tzdata==2024.1 in /home/eslami/Desktop/UT/Data Science/.venv/lib/python3.12/site-packages (from -r ./../requirements.txt (line 57)) (2024.1)\n",
      "Requirement already satisfied: urllib3==2.2.1 in /home/eslami/Desktop/UT/Data Science/.venv/lib/python3.12/site-packages (from -r ./../requirements.txt (line 58)) (2.2.1)\n",
      "Requirement already satisfied: wcwidth==0.2.13 in /home/eslami/Desktop/UT/Data Science/.venv/lib/python3.12/site-packages (from -r ./../requirements.txt (line 59)) (0.2.13)\n",
      "Requirement already satisfied: wsproto==1.2.0 in /home/eslami/Desktop/UT/Data Science/.venv/lib/python3.12/site-packages (from -r ./../requirements.txt (line 60)) (1.2.0)\n",
      "Note: you may need to restart the kernel to use updated packages.\n"
     ]
    }
   ],
   "source": [
    "%pip install -r ./../requirements.txt"
   ]
  },
  {
   "cell_type": "code",
   "execution_count": 2,
   "metadata": {},
   "outputs": [],
   "source": [
    "import numpy as np\n",
    "import pandas as pd\n",
    "import matplotlib.pyplot as plt\n",
    "import seaborn as sb\n",
    "from bs4 import BeautifulSoup\n",
    "from selenium import webdriver\n",
    "import time\n",
    "from selenium.webdriver.common.by import By"
   ]
  },
  {
   "cell_type": "code",
   "execution_count": 18,
   "metadata": {},
   "outputs": [],
   "source": [
    "class Scrip_Etheruim:\n",
    "    url = \"https://etherscan.io/txs\"\n",
    "\n",
    "    def __init__(self):\n",
    "        self.driver = webdriver.Chrome()\n",
    "        self.df = pd.DataFrame(columns=['tnx_hash', 'method', 'block', 'date', 'from', 'to', 'value', 'tnx_fee'])\n",
    "\n",
    "    def __del__(self):\n",
    "        self.driver.quit()\n",
    "\n",
    "    def _get_text(self, element):\n",
    "        return element.find('a').get('href').split('/')[-1] \n",
    "\n",
    "    def _get_data(self, element):\n",
    "        tnx_hash = element[1].text.strip()\n",
    "        method = element[2].text.strip()\n",
    "        block = element[3].text.strip()\n",
    "        date = element[4].text.strip()\n",
    "        _from = self._get_text(element[7])\n",
    "        to = self._get_text(element[9])\n",
    "        value = element[10].text.strip()\n",
    "        tnx_fee = element[11].text.strip()\n",
    "        data = [tnx_hash, method, block, date, _from, to, value, tnx_fee]\n",
    "        return pd.Series(data, index=['tnx_hash', 'method', 'block', 'date', 'from', 'to', 'value', 'tnx_fee']), block\n",
    "\n",
    "\n",
    "    def _extract_data_from_html(self, html_content):\n",
    "        soup = BeautifulSoup(html_content, \"html.parser\")\n",
    "        rows = soup.find_all(\"tr\")\n",
    "        block_number = 0\n",
    "        for row in rows:\n",
    "            cells = row.find_all(\"td\")\n",
    "            series, block = self._get_data(cells)\n",
    "            block_number = max(block_number, block)\n",
    "            self.df = pd.concat([self.df, pd.DataFrame([series])], ignore_index=True)\n",
    "\n",
    "        return block_number\n",
    "\n",
    "            \n",
    "    def _extract_data_from_url(self):\n",
    "        self.driver.get(self.url)\n",
    "        table_body = self.driver.find_element(By.CSS_SELECTOR, \"tbody.align-middle.text-nowrap\")\n",
    "        html_content = table_body.get_attribute(\"outerHTML\")\n",
    "        df = self._extract_data_from_html(html_content)\n",
    "        time.sleep(0.5)\n",
    "\n"
   ]
  },
  {
   "cell_type": "code",
   "execution_count": null,
   "metadata": {},
   "outputs": [],
   "source": []
  }
 ],
 "metadata": {
  "kernelspec": {
   "display_name": ".venv",
   "language": "python",
   "name": "python3"
  },
  "language_info": {
   "codemirror_mode": {
    "name": "ipython",
    "version": 3
   },
   "file_extension": ".py",
   "mimetype": "text/x-python",
   "name": "python",
   "nbconvert_exporter": "python",
   "pygments_lexer": "ipython3",
   "version": "3.12.2+"
  }
 },
 "nbformat": 4,
 "nbformat_minor": 4
}
