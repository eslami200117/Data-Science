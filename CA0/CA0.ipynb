{
 "cells": [
  {
   "cell_type": "markdown",
   "metadata": {},
   "source": [
    "# Web Scraping and Introductory Data Analysis\n",
    "// purpose of assintment\n"
   ]
  },
  {
   "cell_type": "markdown",
   "metadata": {},
   "source": [
    "// summary of what we're going to do"
   ]
  },
  {
   "cell_type": "code",
   "execution_count": null,
   "metadata": {},
   "outputs": [],
   "source": [
    "%pip install -r ./../requirements.txt"
   ]
  },
  {
   "cell_type": "code",
   "execution_count": null,
   "metadata": {},
   "outputs": [],
   "source": [
    "import numpy as np\n",
    "import pandas as pd\n",
    "import matplotlib.pyplot as plt\n",
    "import seaborn as sb\n",
    "from bs4 import BeautifulSoup\n",
    "from selenium import webdriver\n",
    "import time\n",
    "from selenium.webdriver.common.by import By\n",
    "from selenium.webdriver.support.wait import WebDriverWait\n",
    "from selenium.webdriver.support import expected_conditions as EC"
   ]
  },
  {
   "cell_type": "code",
   "execution_count": null,
   "metadata": {},
   "outputs": [],
   "source": [
    "NUMBER_BLOCKS = 3\n",
    "ETHERESCAN_URL = \"https://etherscan.io/txs\""
   ]
  },
  {
   "cell_type": "code",
   "execution_count": null,
   "metadata": {},
   "outputs": [],
   "source": [
    "class Scrip_Etheruim:\n",
    "    url = ETHERESCAN_URL\n",
    "\n",
    "    def __init__(self):\n",
    "        self.driver = None\n",
    "        self.df = pd.DataFrame(columns=['tnx_hash', 'method', 'block', 'date', 'from', 'to', 'value', 'tnx_fee'])\n",
    "\n",
    "    def __del__(self):\n",
    "        if self.driver:\n",
    "            self.driver.quit()\n",
    "\n",
    "    def _get_text(self, element):\n",
    "        return element.find('a').get('href').split('/')[-1] \n",
    "\n",
    "    def _get_data(self, element):\n",
    "        tnx_hash = element[1].text.strip()\n",
    "        method = element[2].text.strip()\n",
    "        block = element[3].text.strip()\n",
    "        date = element[4].text.strip()\n",
    "        _from = self._get_text(element[7])\n",
    "        to = self._get_text(element[9])\n",
    "        value = element[10].text.strip()\n",
    "        tnx_fee = element[11].text.strip()\n",
    "        data = [tnx_hash, method, block, date, _from, to, value, tnx_fee]\n",
    "\n",
    "        return pd.Series(data, index=['tnx_hash', 'method', 'block', 'date', 'from', 'to', 'value', 'tnx_fee']), block\n",
    "\n",
    "\n",
    "    def _extract_data_from_html(self, html_content):\n",
    "        soup = BeautifulSoup(html_content, \"html.parser\")\n",
    "        rows = soup.find_all(\"tr\")\n",
    "        block_number = 0\n",
    "        for row in rows:\n",
    "            cells = row.find_all(\"td\")\n",
    "            series, block = self._get_data(cells)\n",
    "            block_number = max(block_number, int (block))\n",
    "            self.df = pd.concat([self.df, pd.DataFrame([series])], ignore_index=True)\n",
    "\n",
    "        return block_number\n",
    "\n",
    "            \n",
    "    def _extract_data_from_url(self):\n",
    "        table_body = self.driver.find_element(By.CSS_SELECTOR, \"tbody.align-middle.text-nowrap\")\n",
    "        html_content = table_body.get_attribute(\"outerHTML\")\n",
    "        block_number = self._extract_data_from_html(html_content)\n",
    "\n",
    "        return block_number\n",
    "    \n",
    "    def _click_next_button(self):\n",
    "\n",
    "        try:\n",
    "            next_button = WebDriverWait(self.driver, 10).until(\n",
    "                EC.element_to_be_clickable((By.CSS_SELECTOR, \"a[aria-label='Next']\"))\n",
    "            )\n",
    "            next_button.click()\n",
    "        except Exception as e:\n",
    "            print(f\"Error clicking the 'Next' button: {e}\")\n",
    "            raise\n",
    "\n",
    "    def extract_data(self):\n",
    "        self.driver = webdriver.Chrome()\n",
    "        self.driver.get(self.url)\n",
    "        print(\"stage: 1\")\n",
    "        block_number = self._extract_data_from_url()\n",
    "        print(\"stage: 2\")\n",
    "        new_block_number = block_number\n",
    "        while (block_number - new_block_number) < NUMBER_BLOCKS:\n",
    "            print(new_block_number, block_number)\n",
    "            self._click_next_button()\n",
    "            new_block_number = self._extract_data_from_url()\n",
    "        \n",
    "        return self.df\n",
    "        \n",
    "      \n",
    "\n",
    "\n",
    "\n"
   ]
  },
  {
   "cell_type": "code",
   "execution_count": null,
   "metadata": {},
   "outputs": [],
   "source": [
    "scripEther = Scrip_Etheruim()\n",
    "df = scripEther.extract_data()\n"
   ]
  },
  {
   "cell_type": "code",
   "execution_count": null,
   "metadata": {},
   "outputs": [],
   "source": [
    "df"
   ]
  },
  {
   "cell_type": "code",
   "execution_count": null,
   "metadata": {},
   "outputs": [],
   "source": []
  },
  {
   "cell_type": "code",
   "execution_count": null,
   "metadata": {},
   "outputs": [],
   "source": []
  }
 ],
 "metadata": {
  "kernelspec": {
   "display_name": ".venv",
   "language": "python",
   "name": "python3"
  },
  "language_info": {
   "codemirror_mode": {
    "name": "ipython",
    "version": 3
   },
   "file_extension": ".py",
   "mimetype": "text/x-python",
   "name": "python",
   "nbconvert_exporter": "python",
   "pygments_lexer": "ipython3",
   "version": "3.12.2+"
  }
 },
 "nbformat": 4,
 "nbformat_minor": 4
}
