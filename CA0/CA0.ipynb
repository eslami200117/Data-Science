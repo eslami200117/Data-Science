{
 "cells": [
  {
   "cell_type": "markdown",
   "metadata": {},
   "source": [
<<<<<<< HEAD
    "# Web Scraping and Introductory Data Analysis\n",
    "\n"
   ]
  },
  {
   "cell_type": "markdown",
   "metadata": {},
   "source": [
    "### purpose of this assignment\n",
    "- Write a web scraping script using Beautiful Soup and Selenium to collect data from a website.\n",
    "- Sample from the collected dataset and compare the statistics of the sample and the population."
   ]
  },
  {
   "cell_type": "markdown",
   "metadata": {},
   "source": [
    "### Environment Setup"
   ]
  },
  {
   "cell_type": "markdown",
   "metadata": {},
   "source": [
    "Create the virtualenv by running the following command:\n",
    "\n",
    "`python -m venv .venv`\n",
    "\n",
    "Activate the virtualenv by runnig the following command:\n",
    "\n",
    "windows:\n",
    "`.venv/Scripts/activate`\n",
    "\n",
    "linux:\n",
    "`source .venv/bin/activate`\n",
    "\n",
    "Now install packages using pip. Install pakages by runnig the following cell:\n",
    "\n",
    "`pip install -r ./../requirements.txt`"
=======
    "# Web Scraping and Introductory Data Analysis"
>>>>>>> 7f5538e42e9e7f899001ca09c613664b70f5bb5e
   ]
  },
  {
   "cell_type": "markdown",
   "metadata": {},
   "source": [
    "### purpose of this assignment\n",
    "- Write a web scraping script using Beautiful Soup and Selenium to collect data from a website.\n",
    "- Sample from the collected dataset and compare the statistics of the sample and the population."
   ]
  },
  {
<<<<<<< HEAD
   "cell_type": "code",
   "execution_count": null,
=======
   "cell_type": "markdown",
>>>>>>> 7f5538e42e9e7f899001ca09c613664b70f5bb5e
   "metadata": {},
   "source": [
    "### Environment Setup"
   ]
  },
  {
   "cell_type": "markdown",
   "metadata": {},
   "source": [
    "Create the virtualenv by running the following command:\n",
    "\n",
    "`python -m venv .venv`\n",
    "\n",
    "Activate the virtualenv by runnig the following command:\n",
    "\n",
    "windows:\n",
    "`.venv/Scripts/activate`\n",
    "\n",
    "linux:\n",
    "`source .venv/bin/activate`\n",
    "\n",
    "Now install packages using pip. Install pakages by runnig the following cell:\n",
    "\n",
    "`pip install -r ./../requirements.txt`"
   ]
  },
  {
   "cell_type": "code",
   "execution_count": 22,
   "metadata": {},
   "outputs": [],
   "source": [
    "import numpy as np\n",
    "import pandas as pd\n",
    "import matplotlib.pyplot as plt\n",
    "import seaborn as sns\n",
    "import bs4\n",
    "from bs4 import BeautifulSoup\n",
    "from selenium import webdriver\n",
    "from selenium.webdriver.common.by import By\n",
    "from selenium.webdriver.support.wait import WebDriverWait\n",
    "from selenium.webdriver.support import expected_conditions as EC\n",
    "\n",
    "from ydata_profiling  import ProfileReport\n",
    "from scipy.stats import norm\n",
    "from sklearn.utils import resample"
   ]
  },
  {
   "cell_type": "markdown",
   "metadata": {},
   "source": [
    "## Data Collection"
   ]
  },
  {
   "cell_type": "code",
   "execution_count": null,
   "metadata": {},
   "outputs": [],
   "source": [
    "NUMBER_BLOCKS = 10\n",
    "ETHERESCAN_URL = \"https://etherscan.io/txs\""
   ]
  },
  {
   "cell_type": "markdown",
   "metadata": {},
   "source": [
<<<<<<< HEAD
    "### Web Scraping\n",
=======
    "## Web Scraping\n",
>>>>>>> 7f5538e42e9e7f899001ca09c613664b70f5bb5e
    "**Class: $EthereumScraping$**\n",
    "\n",
    "This class is designed to scrape Ethereum transaction data from Etherscan. It offers functionalities to:\n",
    "\n",
    "- Extract data from a specified number of blocks (`number_block`)\n",
    "- Clean and organize the extracted data into a pandas DataFrame\n",
    "- Handle web scraping using Selenium (specifically ChromeDriver)\n",
    "\n",
    "**Properties:**\n",
    "\n",
    "- `url` (str): The base URL for Etherscan's transaction search page (likely retrieved from an environment variable named `ETHERESCAN_URL`).\n",
    "- `columns` (list): A list of column names for the DataFrame to be created (`['tnx_hash', 'method', 'block', 'date', 'from', 'to', 'value', 'tnx_fee']`).\n",
    "- `number_block` (int, default=10): The desired number of blocks to scrape data from.\n",
    "- `driver` (Optional[webdriver.Chrome]): A reference to the ChromeDriver instance used for web scraping (initialized during the first scraping operation).\n",
    "- `df` (pd.DataFrame): The DataFrame that stores the scraped transaction data, with columns defined in `columns`.\n",
    "\n",
    "**Methods:**\n",
    "\n",
    "- `__init__(self, number_block: int=10) -> None`\n",
    "  - Initializes the class instance with the specified `number_block`.\n",
    "  - Sets `driver` to `None` initially.\n",
    "  - Creates an empty DataFrame with the columns specified in `columns`.\n",
    "\n",
    "- `__del__(self) -> None` (Destructor)\n",
    "  - Closes the ChromeDriver instance if it's open to avoid resource leaks.\n",
    "\n",
    "- `_get_data_from_td_tag(self, element: bs4.element.Tag) -> str` (Private)\n",
    "  - Extracts the text content from an anchor (`<a>`) tag within a table data cell (`<td>`) element.\n",
    "  - Splits the extracted URL by '/' and returns the last element, which is typically the transaction hash.\n",
    "\n",
    "- `_collect_data_from_tr_tag(self, elements: bs4.element.ResultSet) -> pd.core.series.Series` (Private)\n",
    "  - Takes a collection of table cell elements (`elements`) from a table row (`<tr>`).\n",
    "  - Creates a pandas Series with the following data (extracted from corresponding cell indices):\n",
    "    - Method name (index: 'method')\n",
    "    - Block number (index: 'block') (converted to integer)\n",
    "    - Date (index: 'date')\n",
    "    - From address (index: 'from')\n",
    "    - To address (index: 'to')\n",
    "    - Transaction value (index: 'value')\n",
    "    - Transaction fee (index: 'tnx_fee')\n",
    "  - Utilizes `_get_data_from_td_tag` to extract transaction hash and fee from anchor tags within specific cells.\n",
    "\n",
    "- `_extract_data_from_html(self, html_content: str) -> int` (Private)\n",
    "  - Parses the provided HTML content using BeautifulSoup.\n",
    "  - Finds all table rows (`<tr>`) and iterates through them:\n",
    "    - Extracts data from table cell elements (`<td>`) within each row using `_collect_data_from_tr_tag`.\n",
    "    - Appends the extracted Series as a new row to the `df` DataFrame, ignoring the index during concatenation.\n",
    "    - Keeps track of the maximum block number encountered.\n",
    "  - Returns the maximum block number extracted from the HTML content.\n",
    "\n",
    "- `_extract_data_from_url(self) -> int` (Private)\n",
    "  - Retrieves the HTML content from the current URL using the `driver`'s `get_attribute(\"outerHTML\")` method on the target element identified by the CSS selector `\"tbody.align-middle.text-nowrap\"`.\n",
    "  - Calls `_extract_data_from_html` to parse the HTML and extract data.\n",
    "\n",
    "- `_click_next_button(self) -> None` (Private)\n",
    "  - Creates a WebDriverWait object with a 10-second timeout.\n",
    "  - Waits for the \"Next\" button (`a[aria-label='Next']`) to become clickable using `element_to_be_clickable`.\n",
    "  - Clicks the button if located, otherwise prints an error message and raises an exception.\n",
    "\n",
    "- `_extract_data(self) -> None` (Private)\n",
    "  - Initializes a ChromeDriver instance (`driver`) if it's not already set.\n",
    "  - Navigates to the `url` using the `driver`.\n",
    "  - Calls `_extract_data_from_url` to extract data from the initial page.\n",
    "  "
   ]
  },
  {
   "cell_type": "code",
   "execution_count": null,
   "metadata": {},
   "outputs": [],
   "source": [
    "class EthereumScraping:\n",
    "    url = ETHERESCAN_URL\n",
    "    columns = ['tnx_hash', 'method', 'block', 'date', 'from', 'to', 'value', 'tnx_fee']\n",
    "\n",
    "    def __init__(self, number_block: int=10) -> None:\n",
    "        self.number_block = number_block\n",
    "        self.driver = None\n",
    "        self.df = pd.DataFrame(columns=self.columns)\n",
    "\n",
    "    def __del__(self) -> None:\n",
    "        if self.driver:\n",
    "            self.driver.quit()\n",
    "\n",
    "    def _get_data_from_td_tag(self, element: bs4.element.Tag) -> str:\n",
    "        return element.find('a').get('href').split('/')[-1] \n",
    "\n",
    "    def _collect_data_from_tr_tag(self, elements: bs4.element.ResultSet)-> pd.core.series.Series:\n",
    "        return pd.Series(\n",
    "            [\n",
    "                elements[1].text.strip(),\n",
    "                elements[2].text.strip(),\n",
    "                elements[3].text.strip(),\n",
    "                elements[4].text.strip(),\n",
    "                self._get_data_from_td_tag(elements[7]),\n",
    "                self._get_data_from_td_tag(elements[9]),\n",
    "                elements[10].text.strip(),\n",
    "                elements[11].text.strip()\n",
    "            ],\n",
    "            index=self.columns\n",
    "\n",
    "        ), int(elements[3].text.strip())\n",
    "\n",
    "\n",
    "    def _extract_data_from_html(self, html_content: str) -> int:\n",
    "        soup = BeautifulSoup(html_content, \"html.parser\")\n",
    "        rows = soup.find_all(\"tr\")\n",
    "        block_number = 0\n",
    "        for row in rows:\n",
    "            cells = row.find_all(\"td\")\n",
    "            series, block = self._collect_data_from_tr_tag(cells)\n",
    "            block_number = max(block_number, block)\n",
    "            self.df = pd.concat([self.df, pd.DataFrame([series])], ignore_index=True)\n",
    "\n",
    "        return block_number\n",
    "\n",
    "            \n",
    "    def _extract_data_from_url(self) -> int:\n",
    "        return self._extract_data_from_html(\n",
    "            self.driver.find_element(\n",
    "                By.CSS_SELECTOR, \"tbody.align-middle.text-nowrap\"\n",
    "            ).get_attribute(\"outerHTML\")\n",
    "        )\n",
    "    \n",
    "    def _click_next_button(self) -> None:\n",
    "        try:\n",
    "            WebDriverWait(self.driver, 10).until(\n",
    "                EC.element_to_be_clickable((By.CSS_SELECTOR, \"a[aria-label='Next']\"))\n",
    "            ).click()\n",
    "        except Exception as e:\n",
    "            print(f\"Error clicking the 'Next' button: {e}\")\n",
    "            raise\n",
    "\n",
    "    def _extract_data(self) -> None:\n",
    "        self.driver = webdriver.Chrome()\n",
    "        self.driver.get(self.url)\n",
    "        block_number = new_block_number  = self._extract_data_from_url()\n",
    "        while (block_number - new_block_number) < self.number_block:\n",
    "            self._click_next_button()\n",
    "            new_block_number = self._extract_data_from_url()\n",
    "        \n",
    "    def scrap(self) -> pd.core.frame.DataFrame:\n",
    "        self._extract_data()\n",
    "        return self.df\n",
    "        \n",
    "      \n",
    "\n",
    "\n",
    "\n"
   ]
  },
  {
   "cell_type": "code",
   "execution_count": null,
   "metadata": {},
   "outputs": [],
   "source": [
    "scraptEther = EthereumScraping(NUMBER_BLOCKS)\n",
    "df = scraptEther.scrap()\n"
   ]
  },
  {
   "cell_type": "code",
   "execution_count": null,
   "metadata": {},
   "outputs": [],
   "source": [
    "df"
   ]
  },
  {
   "cell_type": "markdown",
   "metadata": {},
   "source": [
    "# Data Analysis"
   ]
  },
  {
   "cell_type": "markdown",
   "metadata": {},
   "source": [
    "### Data Cleaninig"
   ]
  },
  {
   "cell_type": "code",
   "execution_count": 3,
   "metadata": {},
   "outputs": [],
   "source": [
    "# df = pd.read_csv(\"file.csv\")\n",
    "# df = df.drop(['Unnamed: 0'], axis=1)"
   ]
  },
  {
   "cell_type": "code",
   "execution_count": 4,
   "metadata": {},
   "outputs": [
    {
     "name": "stdout",
     "output_type": "stream",
     "text": [
      "(2050, 9)\n"
     ]
    },
    {
     "data": {
      "text/plain": [
       "1622"
      ]
     },
     "execution_count": 4,
     "metadata": {},
     "output_type": "execute_result"
    }
   ],
   "source": [
    "print(df.shape)\n",
    "df['tnx_hash'].nunique()"
   ]
  },
  {
   "cell_type": "code",
   "execution_count": 5,
   "metadata": {},
   "outputs": [
    {
     "data": {
      "text/plain": [
       "(2050, 9)"
      ]
     },
     "execution_count": 5,
     "metadata": {},
     "output_type": "execute_result"
    }
   ],
   "source": [
    "df = df.drop_duplicates()\n",
    "df.shape"
   ]
  },
  {
   "cell_type": "code",
   "execution_count": 6,
   "metadata": {},
   "outputs": [],
   "source": [
    "df['tnx_fee'] = df['tnx_fee'].astype(float)\n",
    "df['value'] = df['value'].apply(lambda x: x[:-3])\n",
    "df['value'] = df['value'].apply(lambda x: x.replace(',',''))\n",
    "df['value'] = df['value'].astype(float)"
   ]
  },
  {
   "cell_type": "code",
   "execution_count": 62,
   "metadata": {},
   "outputs": [
    {
     "data": {
      "text/html": [
       "<div>\n",
       "<style scoped>\n",
       "    .dataframe tbody tr th:only-of-type {\n",
       "        vertical-align: middle;\n",
       "    }\n",
       "\n",
       "    .dataframe tbody tr th {\n",
       "        vertical-align: top;\n",
       "    }\n",
       "\n",
       "    .dataframe thead th {\n",
       "        text-align: right;\n",
       "    }\n",
       "</style>\n",
       "<table border=\"1\" class=\"dataframe\">\n",
       "  <thead>\n",
       "    <tr style=\"text-align: right;\">\n",
       "      <th></th>\n",
       "      <th>tnx_hash</th>\n",
       "      <th>method</th>\n",
       "      <th>block</th>\n",
       "      <th>date</th>\n",
       "      <th>from</th>\n",
       "      <th>to</th>\n",
       "      <th>value</th>\n",
       "      <th>tnx_fee</th>\n",
       "    </tr>\n",
       "  </thead>\n",
       "  <tbody>\n",
       "    <tr>\n",
       "      <th>0</th>\n",
       "      <td>0xbeed63ac01811c1ef07e90166e0d612a259339116bb1...</td>\n",
       "      <td>Transfer</td>\n",
       "      <td>19389347</td>\n",
       "      <td>2024-03-08 8:47:11</td>\n",
       "      <td>0x95222290dd7278aa3ddd389cc1e1d165cc4bafe5</td>\n",
       "      <td>0x9ca3e337a8587352f4ea97b75f6163ef5fd80c3f</td>\n",
       "      <td>0.062463</td>\n",
       "      <td>0.000995</td>\n",
       "    </tr>\n",
       "    <tr>\n",
       "      <th>1</th>\n",
       "      <td>0x45e11803d0a5b68fb4bd47935ef985884deb7a9de3d5...</td>\n",
       "      <td>Transfer</td>\n",
       "      <td>19389347</td>\n",
       "      <td>2024-03-08 8:47:11</td>\n",
       "      <td>0x9658d0971f9690e45eed3d11c42d5c56367c11d8</td>\n",
       "      <td>0xdac17f958d2ee523a2206206994597c13d831ec7</td>\n",
       "      <td>0.000000</td>\n",
       "      <td>0.002185</td>\n",
       "    </tr>\n",
       "    <tr>\n",
       "      <th>2</th>\n",
       "      <td>0x9c9bc09c34f18324ccef65cd9bad57f9ee0909c7ce4c...</td>\n",
       "      <td>Transfer</td>\n",
       "      <td>19389347</td>\n",
       "      <td>2024-03-08 8:47:11</td>\n",
       "      <td>0xd2d75cf1a4ac4daf3b670398fd1b5b03cd06ecb0</td>\n",
       "      <td>0xdac17f958d2ee523a2206206994597c13d831ec7</td>\n",
       "      <td>0.000000</td>\n",
       "      <td>0.002994</td>\n",
       "    </tr>\n",
       "    <tr>\n",
       "      <th>3</th>\n",
       "      <td>0xeac497f47800d93c917a315b3f00223e772805e360e9...</td>\n",
       "      <td>Transfer*</td>\n",
       "      <td>19389347</td>\n",
       "      <td>2024-03-08 8:47:11</td>\n",
       "      <td>0x415c8893d514f9bc5211d36eeda4183226b84aa7</td>\n",
       "      <td>0xff00000000000000000000000000000000081457</td>\n",
       "      <td>0.000000</td>\n",
       "      <td>0.071508</td>\n",
       "    </tr>\n",
       "    <tr>\n",
       "      <th>4</th>\n",
       "      <td>0xe9ffeeb15e066a75d68fde4e1b8446e3e7e330837dbf...</td>\n",
       "      <td>Transfer</td>\n",
       "      <td>19389347</td>\n",
       "      <td>2024-03-08 8:47:11</td>\n",
       "      <td>0x4dc964672b6f3637c56a2afce19ed4fc04166766</td>\n",
       "      <td>0xf017d3690346eb8234b85f74cee5e15821fee1f4</td>\n",
       "      <td>0.000000</td>\n",
       "      <td>0.002451</td>\n",
       "    </tr>\n",
       "  </tbody>\n",
       "</table>\n",
       "</div>"
      ],
      "text/plain": [
       "                                            tnx_hash     method     block  \\\n",
       "0  0xbeed63ac01811c1ef07e90166e0d612a259339116bb1...   Transfer  19389347   \n",
       "1  0x45e11803d0a5b68fb4bd47935ef985884deb7a9de3d5...   Transfer  19389347   \n",
       "2  0x9c9bc09c34f18324ccef65cd9bad57f9ee0909c7ce4c...   Transfer  19389347   \n",
       "3  0xeac497f47800d93c917a315b3f00223e772805e360e9...  Transfer*  19389347   \n",
       "4  0xe9ffeeb15e066a75d68fde4e1b8446e3e7e330837dbf...   Transfer  19389347   \n",
       "\n",
       "                 date                                        from  \\\n",
       "0  2024-03-08 8:47:11  0x95222290dd7278aa3ddd389cc1e1d165cc4bafe5   \n",
       "1  2024-03-08 8:47:11  0x9658d0971f9690e45eed3d11c42d5c56367c11d8   \n",
       "2  2024-03-08 8:47:11  0xd2d75cf1a4ac4daf3b670398fd1b5b03cd06ecb0   \n",
       "3  2024-03-08 8:47:11  0x415c8893d514f9bc5211d36eeda4183226b84aa7   \n",
       "4  2024-03-08 8:47:11  0x4dc964672b6f3637c56a2afce19ed4fc04166766   \n",
       "\n",
       "                                           to     value   tnx_fee  \n",
       "0  0x9ca3e337a8587352f4ea97b75f6163ef5fd80c3f  0.062463  0.000995  \n",
       "1  0xdac17f958d2ee523a2206206994597c13d831ec7  0.000000  0.002185  \n",
       "2  0xdac17f958d2ee523a2206206994597c13d831ec7  0.000000  0.002994  \n",
       "3  0xff00000000000000000000000000000000081457  0.000000  0.071508  \n",
       "4  0xf017d3690346eb8234b85f74cee5e15821fee1f4  0.000000  0.002451  "
      ]
     },
     "execution_count": 62,
     "metadata": {},
     "output_type": "execute_result"
    }
   ],
   "source": [
    "df.head()"
   ]
  },
  {
   "cell_type": "markdown",
   "metadata": {},
   "source": [
    "### Statistical Analysis"
   ]
  },
  {
   "cell_type": "code",
   "execution_count": 7,
   "metadata": {},
   "outputs": [
    {
     "data": {
      "text/html": [
       "<div>\n",
       "<style scoped>\n",
       "    .dataframe tbody tr th:only-of-type {\n",
       "        vertical-align: middle;\n",
       "    }\n",
       "\n",
       "    .dataframe tbody tr th {\n",
       "        vertical-align: top;\n",
       "    }\n",
       "\n",
       "    .dataframe thead th {\n",
       "        text-align: right;\n",
       "    }\n",
       "</style>\n",
       "<table border=\"1\" class=\"dataframe\">\n",
       "  <thead>\n",
       "    <tr style=\"text-align: right;\">\n",
       "      <th></th>\n",
       "      <th>block</th>\n",
       "      <th>value</th>\n",
       "      <th>tnx_fee</th>\n",
       "    </tr>\n",
       "  </thead>\n",
       "  <tbody>\n",
       "    <tr>\n",
       "      <th>count</th>\n",
       "      <td>2.050000e+03</td>\n",
       "      <td>2050.000000</td>\n",
       "      <td>2050.000000</td>\n",
       "    </tr>\n",
       "    <tr>\n",
       "      <th>mean</th>\n",
       "      <td>1.938934e+07</td>\n",
       "      <td>17.352222</td>\n",
       "      <td>0.005175</td>\n",
       "    </tr>\n",
       "    <tr>\n",
       "      <th>std</th>\n",
       "      <td>2.995009e+00</td>\n",
       "      <td>500.343964</td>\n",
       "      <td>0.011684</td>\n",
       "    </tr>\n",
       "    <tr>\n",
       "      <th>min</th>\n",
       "      <td>1.938934e+07</td>\n",
       "      <td>0.000000</td>\n",
       "      <td>0.000959</td>\n",
       "    </tr>\n",
       "    <tr>\n",
       "      <th>25%</th>\n",
       "      <td>1.938934e+07</td>\n",
       "      <td>0.000000</td>\n",
       "      <td>0.001046</td>\n",
       "    </tr>\n",
       "    <tr>\n",
       "      <th>50%</th>\n",
       "      <td>1.938934e+07</td>\n",
       "      <td>0.000308</td>\n",
       "      <td>0.002403</td>\n",
       "    </tr>\n",
       "    <tr>\n",
       "      <th>75%</th>\n",
       "      <td>1.938934e+07</td>\n",
       "      <td>0.086000</td>\n",
       "      <td>0.006438</td>\n",
       "    </tr>\n",
       "    <tr>\n",
       "      <th>max</th>\n",
       "      <td>1.938935e+07</td>\n",
       "      <td>16004.900000</td>\n",
       "      <td>0.349916</td>\n",
       "    </tr>\n",
       "  </tbody>\n",
       "</table>\n",
       "</div>"
      ],
      "text/plain": [
       "              block         value      tnx_fee\n",
       "count  2.050000e+03   2050.000000  2050.000000\n",
       "mean   1.938934e+07     17.352222     0.005175\n",
       "std    2.995009e+00    500.343964     0.011684\n",
       "min    1.938934e+07      0.000000     0.000959\n",
       "25%    1.938934e+07      0.000000     0.001046\n",
       "50%    1.938934e+07      0.000308     0.002403\n",
       "75%    1.938934e+07      0.086000     0.006438\n",
       "max    1.938935e+07  16004.900000     0.349916"
      ]
     },
     "execution_count": 7,
     "metadata": {},
     "output_type": "execute_result"
    }
   ],
   "source": [
    "df.describe()"
   ]
  },
  {
   "cell_type": "code",
   "execution_count": 8,
   "metadata": {},
   "outputs": [],
   "source": [
    "profile = ProfileReport(df)\n",
    "profile"
   ]
  },
  {
   "cell_type": "markdown",
   "metadata": {},
   "source": [
    "### Visualization"
   ]
  },
  {
   "cell_type": "code",
   "execution_count": 63,
   "metadata": {},
   "outputs": [
    {
     "name": "stderr",
     "output_type": "stream",
     "text": [
      "C:\\Users\\Ahmadreza\\AppData\\Local\\Packages\\PythonSoftwareFoundation.Python.3.11_qbz5n2kfra8p0\\LocalCache\\local-packages\\Python311\\site-packages\\seaborn\\axisgrid.py:118: UserWarning: The figure layout has changed to tight\n",
      "  self._figure.tight_layout(*args, **kwargs)\n"
     ]
    },
    {
     "data": {
      "image/png": "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",
      "text/plain": [
       "<Figure size 2000x500 with 1 Axes>"
      ]
     },
     "metadata": {},
     "output_type": "display_data"
    },
    {
     "data": {
      "image/png": "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",
      "text/plain": [
       "<Figure size 640x480 with 1 Axes>"
      ]
     },
     "metadata": {},
     "output_type": "display_data"
    },
    {
     "data": {
      "image/png": "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",
      "text/plain": [
       "<Figure size 640x480 with 1 Axes>"
      ]
     },
     "metadata": {},
     "output_type": "display_data"
    },
    {
     "data": {
      "image/png": "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",
      "text/plain": [
       "<Figure size 640x480 with 1 Axes>"
      ]
     },
     "metadata": {},
     "output_type": "display_data"
    }
   ],
   "source": [
    "tnx_fee = df['tnx_fee'].loc[df['tnx_fee'] != 0]\n",
    "sns.displot(tnx_fee, kde= False, aspect= 4, height= 5)\n",
    "plt.show()\n",
    "\n",
    "sns.histplot(tnx_fee, kde= True,stat= \"density\", binwidth=0.005)\n",
    "x = sorted(tnx_fee)\n",
    "y = norm.pdf(x, loc=tnx_fee.mean(), scale=tnx_fee.std())\n",
    "plt.plot(x, y, color='r', label='Normal Distribution')\n",
    "plt.legend()\n",
    "plt.show()\n",
    "\n",
    "sns.boxplot(data=tnx_fee)\n",
    "plt.show()\n",
    "\n",
    "sns.violinplot(data=tnx_fee)\n",
    "plt.show()"
   ]
  },
  {
   "cell_type": "code",
   "execution_count": 14,
   "metadata": {},
   "outputs": [
    {
     "data": {
      "text/plain": [
       "1034"
      ]
     },
     "execution_count": 14,
     "metadata": {},
     "output_type": "execute_result"
    }
   ],
   "source": [
    "value = df['value'].loc[df['value'] != 0]\n",
    "len(value)"
   ]
  },
  {
   "cell_type": "code",
   "execution_count": 72,
   "metadata": {},
   "outputs": [
    {
     "name": "stderr",
     "output_type": "stream",
     "text": [
      "C:\\Users\\Ahmadreza\\AppData\\Local\\Packages\\PythonSoftwareFoundation.Python.3.11_qbz5n2kfra8p0\\LocalCache\\local-packages\\Python311\\site-packages\\seaborn\\axisgrid.py:118: UserWarning: The figure layout has changed to tight\n",
      "  self._figure.tight_layout(*args, **kwargs)\n"
     ]
    },
    {
     "data": {
      "image/png": "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",
      "text/plain": [
       "<Figure size 2000x500 with 1 Axes>"
      ]
     },
     "metadata": {},
     "output_type": "display_data"
    }
   ],
   "source": [
    "value = df['value'].loc[df['value'] != 0]\n",
    "sns.displot(value, kde= False, aspect= 4, height= 5)\n",
    "plt.show()\n"
   ]
  },
  {
   "cell_type": "code",
   "execution_count": 73,
   "metadata": {},
   "outputs": [],
   "source": [
    "sns.histplot(value, kde= True,stat= \"density\", binwidth=0.005)\n",
    "x = sorted(value)\n",
    "y = norm.pdf(x, loc=value.mean(), scale=value.std())\n",
    "plt.plot(x, y, color='r', label='Normal Distribution')\n",
    "plt.legend()\n",
    "plt.show()"
   ]
  },
  {
   "cell_type": "code",
   "execution_count": 71,
   "metadata": {},
   "outputs": [
    {
     "data": {
      "image/png": "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",
      "text/plain": [
       "<Figure size 640x480 with 1 Axes>"
      ]
     },
     "metadata": {},
     "output_type": "display_data"
    },
    {
     "data": {
      "image/png": "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",
      "text/plain": [
       "<Figure size 640x480 with 1 Axes>"
      ]
     },
     "metadata": {},
     "output_type": "display_data"
    }
   ],
   "source": [
    "sns.boxplot(data=value, orient= 'h', )\n",
    "plt.show()\n",
    "\n",
    "sns.violinplot(data=value, orient= 'h')\n",
    "plt.show()"
   ]
  },
  {
   "cell_type": "markdown",
   "metadata": {},
   "source": [
    "# Data Sampling and Analysis"
   ]
  },
  {
   "cell_type": "markdown",
   "metadata": {},
   "source": [
    "### Simple Random Sampling"
   ]
  },
  {
   "cell_type": "code",
   "execution_count": 10,
   "metadata": {},
   "outputs": [],
   "source": [
    "df_random_sample = pd.DataFrame()"
   ]
  },
  {
   "cell_type": "code",
   "execution_count": 12,
   "metadata": {},
   "outputs": [
    {
     "name": "stdout",
     "output_type": "stream",
     "text": [
      "shape of sample dataframe:  (1025, 1)\n",
      "Mean of sample:  0.005380579102439025\n",
      "Standard Deviation of sample:  0.013972554003307693\n"
     ]
    },
    {
     "name": "stderr",
     "output_type": "stream",
     "text": [
      "C:\\Users\\Ahmadreza\\AppData\\Local\\Packages\\PythonSoftwareFoundation.Python.3.11_qbz5n2kfra8p0\\LocalCache\\local-packages\\Python311\\site-packages\\seaborn\\axisgrid.py:118: UserWarning: The figure layout has changed to tight\n",
      "  self._figure.tight_layout(*args, **kwargs)\n"
     ]
    },
    {
     "data": {
      "image/png": "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",
      "text/plain": [
       "<Figure size 1500x500 with 1 Axes>"
      ]
     },
     "metadata": {},
     "output_type": "display_data"
    },
    {
     "data": {
      "image/png": "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",
      "text/plain": [
       "<Figure size 640x480 with 1 Axes>"
      ]
     },
     "metadata": {},
     "output_type": "display_data"
    },
    {
     "data": {
      "image/png": "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",
      "text/plain": [
       "<Figure size 640x480 with 1 Axes>"
      ]
     },
     "metadata": {},
     "output_type": "display_data"
    },
    {
     "data": {
      "image/png": "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",
      "text/plain": [
       "<Figure size 640x480 with 1 Axes>"
      ]
     },
     "metadata": {},
     "output_type": "display_data"
    }
   ],
   "source": [
    "df_random_sample['tnx_fee'] = df['tnx_fee'].sample(frac = 0.5, random_state= 42, ignore_index= True)\n",
    "print('shape of sample dataframe: ', df_random_sample.shape)\n",
    "print(\"Mean of sample: \", df_random_sample['tnx_fee'] .mean())\n",
    "print(\"Standard Deviation of sample: \", df_random_sample['tnx_fee'] .std())\n",
    "\n",
    "\n",
    "sns.displot(df_random_sample['tnx_fee'], kde= False, aspect= 3, height= 5)\n",
    "plt.show()\n",
    "\n",
    "sns.histplot(df_random_sample['tnx_fee'], kde= True, stat= \"density\", binwidth=0.01)\n",
    "x = sorted(df_random_sample['tnx_fee'])\n",
    "y = norm.pdf(x, loc=df_random_sample['tnx_fee'].mean(), scale=df_random_sample['tnx_fee'].std())\n",
    "plt.plot(x, y, color='r', label='Normal Distribution')\n",
    "plt.legend()\n",
    "plt.show()\n",
    "\n",
    "sns.boxplot(df_random_sample['tnx_fee'])\n",
    "plt.show()\n",
    "\n",
    "sns.violinplot(df_random_sample['tnx_fee'] )\n",
    "plt.show()"
   ]
  },
  {
   "cell_type": "code",
   "execution_count": 15,
   "metadata": {},
   "outputs": [
    {
     "name": "stdout",
     "output_type": "stream",
     "text": [
      "Mean of sample:  33.54709529172341\n",
      "Standard Deviation of sample:  703.9687390779054\n"
     ]
    },
    {
     "data": {
      "image/png": "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",
      "text/plain": [
       "<Figure size 640x480 with 1 Axes>"
      ]
     },
     "metadata": {},
     "output_type": "display_data"
    },
    {
     "data": {
      "image/png": "iVBORw0KGgoAAAANSUhEUgAAAjkAAAGdCAYAAADwjmIIAAAAOXRFWHRTb2Z0d2FyZQBNYXRwbG90bGliIHZlcnNpb24zLjcuMiwgaHR0cHM6Ly9tYXRwbG90bGliLm9yZy8pXeV/AAAACXBIWXMAAA9hAAAPYQGoP6dpAAAsgklEQVR4nO3df3AUdYL//9dMwkwIMAGEZIhGjHIQfgQ8f2XzXQU8cwQuH++49Y4VUFgWZdkCT8gesrlzWZCr5dchcgtIWe7KVsnugXWupcCBIYIUElCjQcElAoLBgwmIMgMhv2bS3z/CNBmSYCIJQ955Pqq6MtP9Ts+7KWWe9PTMOCzLsgQAAGAYZ7QnAAAA0BaIHAAAYCQiBwAAGInIAQAARiJyAACAkYgcAABgJCIHAAAYicgBAABGio32BKKptrZWJ0+eVLdu3eRwOKI9HQAA0AyWZen8+fNKTk6W09n0+ZoOHTknT55USkpKtKcBAAC+hxMnTuiWW25pcnuHjpxu3bpJqvtD8ng8UZ4NAABojkAgoJSUFPt5vCkdOnLCL1F5PB4iBwCAdua7LjXhwmMAAGAkIgcAABiJyAEAAEYicgAAgJGIHAAAYCQiBwAAGInIAQAARiJyAACAkYgcAABgJCIHAAAYicgBAABGInIAAICRiBwARrIsS8FgMNrTABBFRA4A41iWpVmzZunRRx9VeXl5tKcDIEqIHADGqamp0f79+/X111/rL3/5S7SnAyBKiBwAxqmoqLBv19bWRnEmAKKJyAFgnMrKSvt2TU1NFGcCIJqIHADGqX8m5+LFi1GcCYBoInIAGKf+xcZEDtBxETkAjMOZHAASkQPAQPXDhsgBOi4iB4Bx6r+jyrKsKM4EQDQROQCMExMTY992OvlrDuio+L8fgHEcDkejtwF0LEQOAON06tSp0dsAOhYiB4BxunTp0uhtAB0LkQPAOEQOAInIAWAgIgeAROQAMJDb7bZvc00O0HEROQCMExcXF+0pALgBEDkAjONyuaI9BQA3ACIHgHH4nBwAEpEDwHB8rQPQcRE5AADASEQOAKNxJgfouIgcAEbjmhyg4yJyAACAkVocObt27dLDDz+s5ORkORwOvfHGGxHbf/KTn8jhcEQso0ePjhjzzTffaOLEifJ4POrevbumTp2qCxcuRIz55JNP9MADDyguLk4pKSlaunRpg7m89tprSktLU1xcnNLT07Vly5aWHg4Aw/FyFdBxtThyysvLNWzYMK1evbrJMaNHj9apU6fs5U9/+lPE9okTJ+rgwYPKz8/Xpk2btGvXLk2bNs3eHggENGrUKPXt21dFRUVatmyZ5s+fr5deeskes2fPHo0fP15Tp07Vxx9/rLFjx2rs2LE6cOBASw8JAAAYKLalvzBmzBiNGTPmqmPcbre8Xm+j2/7yl79o69at+uCDD3TPPfdIkn7729/q7/7u7/Sf//mfSk5O1vr161VdXa3f//73crlcGjx4sIqLi/X888/bMbRy5UqNHj1ac+bMkSQtXLhQ+fn5WrVqldauXdvSwwIAAIZpk2tydu7cqcTERA0YMEA///nPdfbsWXtbYWGhunfvbgeOJGVlZcnpdGrfvn32mOHDh0d8aml2drZKSkr07bff2mOysrIiHjc7O1uFhYVtcUgAAKCdafGZnO8yevRo/ehHP1JqaqqOHj2qf/u3f9OYMWNUWFiomJgY+Xw+JSYmRk4iNlY9e/aUz+eTJPl8PqWmpkaMSUpKsrf16NFDPp/PXld/THgfjamqqlJVVZV9PxAIXNOxAgCAG1erR86jjz5q305PT9fQoUN1xx13aOfOnXrooYda++FaZNGiRVqwYEFU5wAAAK6PNn8L+e23365evXrpyJEjkiSv16vTp09HjAkGg/rmm2/s63i8Xq/KysoixoTvf9eYpq4FkqS8vDz5/X57OXHixLUdHAAAuGG1eeR89dVXOnv2rPr06SNJyszM1Llz51RUVGSPeeedd1RbW6uMjAx7zK5du1RTU2OPyc/P14ABA9SjRw97TEFBQcRj5efnKzMzs8m5uN1ueTyeiAUAAJipxZFz4cIFFRcXq7i4WJJ07NgxFRcXq7S0VBcuXNCcOXO0d+9eHT9+XAUFBfqHf/gH9evXT9nZ2ZKkgQMHavTo0XryySf1/vvv67333tPMmTP16KOPKjk5WZI0YcIEuVwuTZ06VQcPHtSGDRu0cuVK5ebm2vN4+umntXXrVi1fvlyHDh3S/Pnz9eGHH2rmzJmt8McCAADaPauFduzYYUlqsEyePNm6ePGiNWrUKKt3795Wp06drL59+1pPPvmk5fP5IvZx9uxZa/z48VbXrl0tj8djTZkyxTp//nzEmP3791v333+/5Xa7rZtvvtlavHhxg7ls3LjR6t+/v+VyuazBgwdbmzdvbtGx+P1+S5Ll9/tb+scA4AY3YsQIa8SIEdbevXujPRUAray5z98Oy+q4HwcaCASUkJAgv9/PS1eAYUaOHClJWrJkif1SOAAzNPf5m++uAgAARiJyAACAkYgcAABgJCIHAAAYicgBAABGInIAAICRiBwAAGAkIgcAABiJyAEAAEYicgAAgJGIHAAAYCQiBwAAGInIAQAARiJyAACAkYgcAABgJCIHAAAYicgBAABGInIAAICRiBwAAGAkIgcAABiJyAEAAEYicgAAgJGIHAAAYCQiBwAAGInIAQAARiJyAACAkYgcAABgJCIHAAAYicgBAABGInIAAICRiBwAAGAkIgcAABiJyAEAAEYicgAAgJGIHAAAYCQiBwAAGInIAQAARiJyAACAkYgcAABgpBZHzq5du/Twww8rOTlZDodDb7zxhr2tpqZGc+fOVXp6urp06aLk5GRNmjRJJ0+ejNjHbbfdJofDEbEsXrw4Yswnn3yiBx54QHFxcUpJSdHSpUsbzOW1115TWlqa4uLilJ6eri1btrT0cAAAgKFaHDnl5eUaNmyYVq9e3WDbxYsX9dFHH+lXv/qVPvroI73++usqKSnR3//93zcY+9xzz+nUqVP28tRTT9nbAoGARo0apb59+6qoqEjLli3T/Pnz9dJLL9lj9uzZo/Hjx2vq1Kn6+OOPNXbsWI0dO1YHDhxo6SEBAAADxbb0F8aMGaMxY8Y0ui0hIUH5+fkR61atWqX77rtPpaWluvXWW+313bp1k9frbXQ/69evV3V1tX7/+9/L5XJp8ODBKi4u1vPPP69p06ZJklauXKnRo0drzpw5kqSFCxcqPz9fq1at0tq1a1t6WAAAwDBtfk2O3++Xw+FQ9+7dI9YvXrxYN910k/76r/9ay5YtUzAYtLcVFhZq+PDhcrlc9rrs7GyVlJTo22+/tcdkZWVF7DM7O1uFhYVtdzAAAKDdaPGZnJaorKzU3LlzNX78eHk8Hnv9v/zLv+iuu+5Sz549tWfPHuXl5enUqVN6/vnnJUk+n0+pqakR+0pKSrK39ejRQz6fz15Xf4zP52tyPlVVVaqqqrLvBwKBaz5GAABwY2qzyKmpqdG4ceNkWZZefPHFiG25ubn27aFDh8rlculnP/uZFi1aJLfb3VZT0qJFi7RgwYI22z8AALhxtMnLVeHA+fLLL5Wfnx9xFqcxGRkZCgaDOn78uCTJ6/WqrKwsYkz4fvg6nqbGNHWdjyTl5eXJ7/fby4kTJ1p6aAAAoJ1o9cgJB87hw4e1fft23XTTTd/5O8XFxXI6nUpMTJQkZWZmateuXaqpqbHH5Ofna8CAAerRo4c9pqCgIGI/+fn5yszMbPJx3G63PB5PxAIAAMzU4perLly4oCNHjtj3jx07puLiYvXs2VN9+vTRP/3TP+mjjz7Spk2bFAqF7GtkevbsKZfLpcLCQu3bt08PPvigunXrpsLCQs2ePVuPPfaYHTATJkzQggULNHXqVM2dO1cHDhzQypUrtWLFCvtxn376aY0YMULLly9XTk6O/vu//1sffvhhxNvMAQBAB2a10I4dOyxJDZbJkydbx44da3SbJGvHjh2WZVlWUVGRlZGRYSUkJFhxcXHWwIEDrd/85jdWZWVlxOPs37/fuv/++y23223dfPPN1uLFixvMZePGjVb//v0tl8tlDR482Nq8eXOLjsXv91uSLL/f39I/BgA3uBEjRlgjRoyw9u7dG+2pAGhlzX3+dliWZUWlrm4AgUBACQkJ8vv9vHQFGGbkyJGSpCVLligjIyO6kwHQqpr7/M13VwEAACMROQAAwEhEDgAAMBKRAwAAjETkAAAAIxE5AADASEQOAAAwEpEDAACMROQAAAAjETkAAMBIRA4AADASkQMAAIxE5AAAACMROQAAwEhEDgAAMBKRAwAAjETkAAAAIxE5AADASEQOAAAwEpEDAACMROQAAAAjETkAAMBIRA4AADASkQMAAIxE5AAAACMROQAAwEhEDgAAMBKRAwAAjETkAAAAIxE5AADASEQOAAAwEpEDAACMROQAAAAjETkAAMBIRA4AADASkQMAAIxE5AAAACMROQAAwEhEDgAAMFKLI2fXrl16+OGHlZycLIfDoTfeeCNiu2VZmjdvnvr06aPOnTsrKytLhw8fjhjzzTffaOLEifJ4POrevbumTp2qCxcuRIz55JNP9MADDyguLk4pKSlaunRpg7m89tprSktLU1xcnNLT07Vly5aWHg4AADBUiyOnvLxcw4YN0+rVqxvdvnTpUv3Xf/2X1q5dq3379qlLly7Kzs5WZWWlPWbixIk6ePCg8vPztWnTJu3atUvTpk2ztwcCAY0aNUp9+/ZVUVGRli1bpvnz5+ull16yx+zZs0fjx4/X1KlT9fHHH2vs2LEaO3asDhw40NJDAgAAJrKugSTrz3/+s32/trbW8nq91rJly+x1586ds9xut/WnP/3JsizL+uyzzyxJ1gcffGCP+d///V/L4XBY//d//2dZlmWtWbPG6tGjh1VVVWWPmTt3rjVgwAD7/rhx46ycnJyI+WRkZFg/+9nPmj1/v99vSbL8fn+zfwdA+zBixAhrxIgR1t69e6M9FQCtrLnP3616Tc6xY8fk8/mUlZVlr0tISFBGRoYKCwslSYWFherevbvuuecee0xWVpacTqf27dtnjxk+fLhcLpc9Jjs7WyUlJfr222/tMfUfJzwm/DgAAKBji23Nnfl8PklSUlJSxPqkpCR7m8/nU2JiYuQkYmPVs2fPiDGpqakN9hHe1qNHD/l8vqs+TmOqqqpUVVVl3w8EAi05PAAA0I50qHdXLVq0SAkJCfaSkpIS7SkBAIA20qqR4/V6JUllZWUR68vKyuxtXq9Xp0+fjtgeDAb1zTffRIxpbB/1H6OpMeHtjcnLy5Pf77eXEydOtPQQAQBAO9GqkZOamiqv16uCggJ7XSAQ0L59+5SZmSlJyszM1Llz51RUVGSPeeedd1RbW6uMjAx7zK5du1RTU2OPyc/P14ABA9SjRw97TP3HCY8JP05j3G63PB5PxAIAAMzU4si5cOGCiouLVVxcLKnuYuPi4mKVlpbK4XBo1qxZ+o//+A+9+eab+vTTTzVp0iQlJydr7NixkqSBAwdq9OjRevLJJ/X+++/rvffe08yZM/Xoo48qOTlZkjRhwgS5XC5NnTpVBw8e1IYNG7Ry5Url5uba83j66ae1detWLV++XIcOHdL8+fP14YcfaubMmdf+pwIAANq/lr5ta8eOHZakBsvkyZMty6p7G/mvfvUrKykpyXK73dZDDz1klZSUROzj7Nmz1vjx462uXbtaHo/HmjJlinX+/PmIMfv377fuv/9+y+12WzfffLO1ePHiBnPZuHGj1b9/f8vlclmDBw+2Nm/e3KJj4S3kgLl4CzlgruY+fzssy7Ki2FhRFQgElJCQIL/fz0tXgGFGjhwpSVqyZIn9UjgAMzT3+btDvbsKAAB0HEQOAAAwEpEDAACMROQAAAAjETkAAMBIRA4AADASkQMAAIxE5AAAACMROQAAwEhEDgAAMBKRAwAAjETkAAAAIxE5AADASEQOAAAwEpEDAACMROQAAAAjETkAAMBIRA4AADASkQMAAIxE5AAAACMROQAAwEhEDgAAMBKRAwAAjETkAAAAIxE5AADASEQOAAAwEpEDAACMROQAAAAjETkAAMBIRA4AADASkQMAAIxE5AAAACMROQAAwEhEDgAAMBKRAwAAjETkAAAAIxE5AADASEQOAAAwEpEDAACM1OqRc9ttt8nhcDRYZsyYIUkaOXJkg23Tp0+P2EdpaalycnIUHx+vxMREzZkzR8FgMGLMzp07ddddd8ntdqtfv35at25dax8KAABox2Jbe4cffPCBQqGQff/AgQP627/9W/3zP/+zve7JJ5/Uc889Z9+Pj4+3b4dCIeXk5Mjr9WrPnj06deqUJk2apE6dOuk3v/mNJOnYsWPKycnR9OnTtX79ehUUFOiJJ55Qnz59lJ2d3dqHBAAA2qFWj5zevXtH3F+8eLHuuOMOjRgxwl4XHx8vr9fb6O+//fbb+uyzz7R9+3YlJSXpzjvv1MKFCzV37lzNnz9fLpdLa9euVWpqqpYvXy5JGjhwoHbv3q0VK1YQOQAAQFIbX5NTXV2tV199VT/96U/lcDjs9evXr1evXr00ZMgQ5eXl6eLFi/a2wsJCpaenKykpyV6XnZ2tQCCggwcP2mOysrIiHis7O1uFhYVteTgAAKAdafUzOfW98cYbOnfunH7yk5/Y6yZMmKC+ffsqOTlZn3zyiebOnauSkhK9/vrrkiSfzxcROJLs+z6f76pjAoGAKioq1Llz50bnU1VVpaqqKvt+IBC45mMEAAA3pjaNnN/97ncaM2aMkpOT7XXTpk2zb6enp6tPnz566KGHdPToUd1xxx1tOR0tWrRICxYsaNPHAAAAN4Y2e7nqyy+/1Pbt2/XEE09cdVxGRoYk6ciRI5Ikr9ersrKyiDHh++HreJoa4/F4mjyLI0l5eXny+/32cuLEiZYdFAAAaDfaLHJeeeUVJSYmKicn56rjiouLJUl9+vSRJGVmZurTTz/V6dOn7TH5+fnyeDwaNGiQPaagoCBiP/n5+crMzLzqY7ndbnk8nogFAACYqU0ip7a2Vq+88oomT56s2NjLr4gdPXpUCxcuVFFRkY4fP64333xTkyZN0vDhwzV06FBJ0qhRozRo0CA9/vjj2r9/v7Zt26Znn31WM2bMkNvtliRNnz5dX3zxhZ555hkdOnRIa9as0caNGzV79uy2OBwAANAOtUnkbN++XaWlpfrpT38asd7lcmn79u0aNWqU0tLS9Itf/EKPPPKI3nrrLXtMTEyMNm3apJiYGGVmZuqxxx7TpEmTIj5XJzU1VZs3b1Z+fr6GDRum5cuX6+WXX+bt4wAAwOawLMuK9iSiJRAIKCEhQX6/n5euAMOMHDlSkrRkyRL72j8AZmju8zffXQUAAIxE5AAAACMROQAAwEhEDgAAMBKRAwAAjETkAAAAIxE5AADASEQOAAAwEpEDAACMROQAAAAjETkAAMBIRA4AADASkQMAAIxE5AAAACMROQAAwEhEDgAAMBKRAwAAjETkAAAAIxE5AADASEQOAAAwEpEDAACMROQAAAAjETkAAMBIRA4AADASkQMAAIxE5AAAACMROQAAwEhEDgAAMBKRAwAAjETkAAAAIxE5AADASEQOAAAwEpEDAACMROQAAAAjETkAAMBIRA4AADASkQMAAIxE5AAAACMROQAAwEitHjnz58+Xw+GIWNLS0uztlZWVmjFjhm666SZ17dpVjzzyiMrKyiL2UVpaqpycHMXHxysxMVFz5sxRMBiMGLNz507dddddcrvd6tevn9atW9fahwIAANqxNjmTM3jwYJ06dcpedu/ebW+bPXu23nrrLb322mt69913dfLkSf3oRz+yt4dCIeXk5Ki6ulp79uzRH/7wB61bt07z5s2zxxw7dkw5OTl68MEHVVxcrFmzZumJJ57Qtm3b2uJwAABAOxTbJjuNjZXX622w3u/363e/+53++Mc/6m/+5m8kSa+88ooGDhyovXv36gc/+IHefvttffbZZ9q+fbuSkpJ05513auHChZo7d67mz58vl8ultWvXKjU1VcuXL5ckDRw4ULt379aKFSuUnZ3dFocEAADamTY5k3P48GElJyfr9ttv18SJE1VaWipJKioqUk1NjbKysuyxaWlpuvXWW1VYWChJKiwsVHp6upKSkuwx2dnZCgQCOnjwoD2m/j7CY8L7aEpVVZUCgUDEAgAAzNTqkZORkaF169Zp69atevHFF3Xs2DE98MADOn/+vHw+n1wul7p37x7xO0lJSfL5fJIkn88XETjh7eFtVxsTCARUUVHR5NwWLVqkhIQEe0lJSbnWwwUAADeoVn+5asyYMfbtoUOHKiMjQ3379tXGjRvVuXPn1n64FsnLy1Nubq59PxAIEDoAABiqzd9C3r17d/Xv319HjhyR1+tVdXW1zp07FzGmrKzMvobH6/U2eLdV+P53jfF4PFcNKbfbLY/HE7EAAAAztXnkXLhwQUePHlWfPn109913q1OnTiooKLC3l5SUqLS0VJmZmZKkzMxMffrppzp9+rQ9Jj8/Xx6PR4MGDbLH1N9HeEx4HwAAAK0eOf/6r/+qd999V8ePH9eePXv0j//4j4qJidH48eOVkJCgqVOnKjc3Vzt27FBRUZGmTJmizMxM/eAHP5AkjRo1SoMGDdLjjz+u/fv3a9u2bXr22Wc1Y8YMud1uSdL06dP1xRdf6JlnntGhQ4e0Zs0abdy4UbNnz27twwEAAO1Uq1+T89VXX2n8+PE6e/asevfurfvvv1979+5V7969JUkrVqyQ0+nUI488oqqqKmVnZ2vNmjX278fExGjTpk36+c9/rszMTHXp0kWTJ0/Wc889Z49JTU3V5s2bNXv2bK1cuVK33HKLXn75Zd4+DgAAbA7LsqxoTyJaAoGAEhIS5Pf7uT4HMMzIkSMlSUuWLFFGRkZ0JwOgVTX3+ZvvrgIAAEYicgAAgJGIHAAAYCQiBwAAGInIAQAARiJyAACAkYgcAABgJCIHAAAYicgBAABGInIAAICRiBwAAGAkIgcAABiJyAEAAEYicgAAgJGIHAAAYCQiBwAAGInIAQAARiJyAACAkYgcAABgJCIHAAAYicgBAABGInIAAICRiBwAAGAkIgcAABiJyAEAAEYicgAAgJGIHAAAYCQiBwAAGInIAQAARiJyAACAkYgcAABgJCIHAAAYicgBAABGInIAAICRiBwAAGAkIgcAABiJyAEAAEYicgAAgJGIHAAAYKRWj5xFixbp3nvvVbdu3ZSYmKixY8eqpKQkYszIkSPlcDgilunTp0eMKS0tVU5OjuLj45WYmKg5c+YoGAxGjNm5c6fuuusuud1u9evXT+vWrWvtwwEAAO1Uq0fOu+++qxkzZmjv3r3Kz89XTU2NRo0apfLy8ohxTz75pE6dOmUvS5cutbeFQiHl5OSourpae/bs0R/+8AetW7dO8+bNs8ccO3ZMOTk5evDBB1VcXKxZs2bpiSee0LZt21r7kAAAQDsU29o73Lp1a8T9devWKTExUUVFRRo+fLi9Pj4+Xl6vt9F9vP322/rss8+0fft2JSUl6c4779TChQs1d+5czZ8/Xy6XS2vXrlVqaqqWL18uSRo4cKB2796tFStWKDs7u7UPCwAAtDNtfk2O3++XJPXs2TNi/fr169WrVy8NGTJEeXl5unjxor2tsLBQ6enpSkpKstdlZ2crEAjo4MGD9pisrKyIfWZnZ6uwsLDJuVRVVSkQCEQsAADATK1+Jqe+2tpazZo1Sz/84Q81ZMgQe/2ECRPUt29fJScn65NPPtHcuXNVUlKi119/XZLk8/kiAkeSfd/n8111TCAQUEVFhTp37txgPosWLdKCBQta9RgBAMCNqU0jZ8aMGTpw4IB2794dsX7atGn27fT0dPXp00cPPfSQjh49qjvuuKPN5pOXl6fc3Fz7fiAQUEpKSps9HgAAiJ42e7lq5syZ2rRpk3bs2KFbbrnlqmMzMjIkSUeOHJEkeb1elZWVRYwJ3w9fx9PUGI/H0+hZHElyu93yeDwRCwAAMFOrR45lWZo5c6b+/Oc/65133lFqaup3/k5xcbEkqU+fPpKkzMxMffrppzp9+rQ9Jj8/Xx6PR4MGDbLHFBQUROwnPz9fmZmZrXQkAACgPWv1yJkxY4ZeffVV/fGPf1S3bt3k8/nk8/lUUVEhSTp69KgWLlyooqIiHT9+XG+++aYmTZqk4cOHa+jQoZKkUaNGadCgQXr88ce1f/9+bdu2Tc8++6xmzJght9stSZo+fbq++OILPfPMMzp06JDWrFmjjRs3avbs2a19SAAAoB1q9ch58cUX5ff7NXLkSPXp08deNmzYIElyuVzavn27Ro0apbS0NP3iF7/QI488orfeesveR0xMjDZt2qSYmBhlZmbqscce06RJk/Tcc8/ZY1JTU7V582bl5+dr2LBhWr58uV5++WXePg4AACS1wYXHlmVddXtKSorefffd79xP3759tWXLlquOGTlypD7++OMWzQ8AAHQMfHcVAAAwEpEDAACMROQAAAAjETkAAMBIRA4AADASkQMAAIxE5AAAACMROQAAwEhEDgAAMBKRAwAAjETkAAAAIxE5AADASEQOAAAwEpEDAACMROQAAAAjETkAAMBIRA4AADASkQMAAIxE5AAAACMROQAAwEhEDgAAMBKRAwAAjETkADCaw+GI9hQARAmRAwAAjETkADCaZVnRngKAKCFyABiNl6uAjovIAWCcUCgU7SkAuAEQOQCMU1VVFe0pALgBEDkAjLNt2zb79s6dO6M3EQBRReQAMMo333yjl19+2b6/ZcsWHTx4MIozAhAtRA4AI4RCIR07dkwvvPCCysvLFYq/STU39ZMkPf/88zp06JCqq6ujPEsA11NstCcAAC0VCoVUWlqqzz//XJ9//rlKSkp05MgRVVZW2mMq+/5/stxdFXuuVEePHtX06dMVGxur1NRU9e/fX/3799eAAQN0++23y+VyRfFoALQVh9WBP0QiEAgoISFBfr9fHo8n2tMB0IhQKKQTJ07YMdNY0IRZzti6MziJaQredIckKea8T66T++W8+LWcwYYXJIfDZ8CAAXb8ED7Aja25z9+cyQFwwwgGg/rqq69aFDS1XXrZP2vjPJIj8lX4UDevKgZ4JcuSo7pcMeVfy3nxa8WUn5Xz4tcKBqt0+PBhHT582P6d2NhY3X777Xb09O/fX6mpqXK73W3+ZwCg9RA5AK5JMBjUxYsXVV5eroqKCpWXl+vixYtN3r7a0tRbvy8HzU0KxfdqMmiuyuGQ5e6qoLur1PO2Szu25Ki+YAdPTHld/ASDVfZLYfV16tRJ8fHxTS5dunRR586dm7zdpUsXxcfHq3PnznK5XHxQIdDGiBygA6qurv7O4GhqCcdM+HZNTU2rzq0uaHpeOkPTS7VdblJtXELLgqa5HA5Z7m4Kurs1Hj7lXyvm0lkfR6hKNTU18vv98vv91/zQsbGxdvCE4+f7LF26dCGYgCYQOUA7YFmWHSZXRsaVt5tzJiUYDLb+HJ0xspydpJhOsmJcsmI6Sc5OsmLqFsV0kuUM33bJiomVFeOKGBPe1iZB01xNhI9C1XKEauSorZFCNXW3QzV162vDt2saGVMdeb+27s8+GAwqEAgoEAhc85SdTmezzh41dvvKJS4ujmCCMYgc4BqFQiFVVVWpurpa1dXVqqqqsu839vNqYysrK5s8g9IWX1VgOWObiBHX5dsRcRIe52rwO1ENk7bmcEixblmxbl3zOzWsWikUrBdG1ZeDqbZ+PNXIUVt9lXi6dF9SbW2tLly4oAsXLlzzoTqdTjuUrlw6d+4st9stl8sll8slt9tt32/sZ2Njw+tiY3n6QdvjvzIYw7IsBYPBq8bEd8VIS8aGf7bFWZGrHuelMGksNMJB0ryzKYaHyY3K4ZRiXbLkaoVgsqTaoH3GSJfC53IYVTdy5unKMXUxpVCNHKoLpvLycpWXl7fCwTbN6XQ2GkmNBdH3Daorx3Tq1ImzVB1Mu4+c1atXa9myZfL5fBo2bJh++9vf6r777ov2tDq88MsrrRkTzRlbW1sb3eN2OCVnjCxHbN1PZ93PutsxkiO27me9bZYjRnJeHh8ZI656Z0/qgkX8JY0wh+Pyfx+Kv7Z91QumBmeU7FgKymGF6sbV1v8ZksMKSuHbtcFL664cc/lsZG1trSoqKlRRUXGNfwjN53A4mh1UzTkb1Zz4crlccjr5x0S0tOvI2bBhg3Jzc7V27VplZGTohRdeUHZ2tkpKSpSYmBjt6d3wKioqdPToUZWXl7c4JpozNtrq4qFeTERExuXYkDO23tgr79ePlFjJccX+wvu5NJ4zIzcOR3W5nJUB1cZ5ZLm6RHs6N756wSTp2s8yNcayJOuKEArH0hXrZdUfU2+sdTma7ICyrtxf/XFBOeyHt+y/o66nTp06tdrZqPDPuLg4paamKiEh4boeS3vTrj8MMCMjQ/fee69WrVolqe5fBikpKXrqqaf0y1/+8jt/v6N9GODp06f16aef6uDBgzpw4ICOHDlyXc58WHJEBoMjpkFoNH7mI7bhWEcjY+qdDbHDxRHDGY8OrNOZzxX35Xt1T6oOhyr7/lA1vftHe1qIBsuquw6q3tkmxxWB9N1nphoPsXB0NRpi1+mp9dZbb9WQIUM0ePBgDRkyRLfeemuHeEnO+A8DrK6uVlFRkfLy8ux1TqdTWVlZKiwsbPR3riz41nhXw40qGAzqyJEjdtAcOHBAZ86caTCutlO8rE6dGw2FK19eubyt4ZmOK19yqf/74lQtriNHdbnivnxP/y8nR+PGjdPGjRu1afMWBRNu5oxOR+Rw2GdaLdV9ivV1yY9wWDV6Zqrxs1BXf6kvGHH2yhGqlrPqvEpLS1VaWqotW7ZIkjwejwYNGqT09HQNHjxYaWlpiouLux5HfENqt5Hz9ddfKxQKKSkpKWJ9UlKSDh061OjvLFq0SAsWLLge07vuAoGADh48aEfNoUOHGnxKrCWHauN7KtQ1SaGuiQp1TZTl7hqlGQNtw1kZkCxL48aN06233qpx48Zp06ZNclYGFCJycL04nFKM0375T2qDuApWKubC6ctL+RkFAgHt3btXe/fulSTFxMTor/7qr+wzPUOGDFHv3r1beyY3rHYbOd9HXl6ecnNz7fuBQEApKSlRnNG1O3v2rP793/+9ybCTLsVNl14KdfOqNjau7qxMbVAxF8qki2frnXmp/zOWMzFol+o+CdmhjRs32mdy5HDWrQfaiyvOBNX9vPyyWv11lquLgt1TFOrmrYud82X2Rd6hUEiHDh3SoUOH9D//8z+SpOTkZM2bN09paWnRPMLrot1GTq9evRQTE6OysrKI9WVlZfJ6vY3+TvhCLpOcOXPmqoEjSQ5Ziik/o5jyhi9XNYflcFx62eoqMVTvfmPrGl5f09g+Yuv+9dMBXk9G27FcXVTZ94fatHmLNm3aJDmcdd9IzlkcXKva2kvX5lx5HU5kgFz+GfkSU/11jtpgvZeqGvldq+2ulzx58qQOHz5M5NzIXC6X7r77bhUUFGjs2LGS6i48Ligo0MyZM6M7uesoLS1Nr776qsrKyux3NVVWVka8Pfu7lsrKyogPowvvI8xhWZJ1+YPH2pIlNRJBV14PdLXYim0ipBoLKi5ONlVN7/4KJtzMu6tMF/FurUYiIiIaQpfeAt94oDRc18g+rs/VPA1c+fb1uLi4iHdZuVwuxcXF2e++aux2/SUhIUH9+vWLyrFcb+02ciQpNzdXkydP1j333KP77rtPL7zwgsrLyzVlypRoT+26uuWWW3TLLbe06j7rf85Na0XT1SIs/C4vh3T5L6rrIPJi6+YHUt3PTnXrY2LrPoDPGVv3VQXO2EsfwBd7+ewUrjvL1YVrcKIp/Lk7tcFLH0AYvPzBhXY8BO1Pf24yLqygHKHwW8KvvED38tvDryeHw9EgHK62NDdKGlv4nJ1r064j58c//rHOnDmjefPmyefz6c4779TWrVsbXIyMlqv/P3G3bt3a9LHCn1TcmtF0taX+JxTX/esuJEfrf2PC5eMLh5QdQOGvUrh0P6YulhrfdmVAXb5NQOGatTREQuHQqNvuCIXH1N926Ssratvwf6pGhD9BuaUR8X2ihC9EbT/a9efkXKuO9jk5qFP/qx++bzRVVlbaS0VFRcTP8HJdPoOoQUBdPoPUIKAu3Sag2pkWnxEJx0cjIXLF/esVInFxcercubPi4uLspXPnzva6cExcS5TwXVgdi/GfkwN8X7GxsYqNjVV8/DV+DP5VhF/uuzJ8Grvf1Jj665sKqMtnolr/E1wjAyoygJobUA1iyhnT6vO8kTis2sgQsb8moakQCX9R540fIvXXNXdM+As9OeuBaCFygDZQ/+W+1tacgGrq7NKNElD4fpqKjCvXtzRW3G43133ASEQO0M6YEFAmI0SAGweRA8DW1gEVCl3fi1GvN6fTSYgANxAiB8B14XA4uDgUwHXFPzkAAICRiBwAAGAkIgcAABiJyAEAAEYicgAAgJGIHAAAYCQiBwAAGInIAQAARiJyAACAkYgcAABgJCIHAAAYicgBAABG6tDflmdZliQpEAhEeSYAAKC5ws/b4efxpnToyDl//rwkKSUlJcozAQAALXX+/HklJCQ0ud1hfVcGGay2tlYnT55Ut27d5HA4oj0dAK0oEAgoJSVFJ06ckMfjifZ0ALQiy7J0/vx5JScny+ls+sqbDh05AMwVCASUkJAgv99P5AAdFBceAwAAIxE5AADASEQOACO53W79+te/ltvtjvZUAEQJ1+QAAAAjcSYHAAAYicgBAABGInIAAICRiBwAAGAkIgeAcVavXq3bbrtNcXFxysjI0Pvvvx/tKQGIAiIHgFE2bNig3Nxc/frXv9ZHH32kYcOGKTs7W6dPn4721ABcZ7yFHIBRMjIydO+992rVqlWS6r6jLiUlRU899ZR++ctfRnl2AK4nzuQAMEZ1dbWKioqUlZVlr3M6ncrKylJhYWEUZwYgGogcAMb4+uuvFQqFlJSUFLE+KSlJPp8vSrMCEC1EDgAAMBKRA8AYvXr1UkxMjMrKyiLWl5WVyev1RmlWAKKFyAFgDJfLpbvvvlsFBQX2utraWhUUFCgzMzOKMwMQDbHRngAAtKbc3FxNnjxZ99xzj+677z698MILKi8v15QpU6I9NQDXGZEDwCg//vGPdebMGc2bN08+n0933nmntm7d2uBiZADm43NyAACAkbgmBwAAGInIAQAARiJyAACAkYgcAABgJCIHAAAYicgBAABGInIAAICRiBwAAGAkIgcAABiJyAEAAEYicgAAgJGIHAAAYKT/H5+dDfCPBYbeAAAAAElFTkSuQmCC",
      "text/plain": [
       "<Figure size 640x480 with 1 Axes>"
      ]
     },
     "metadata": {},
     "output_type": "display_data"
    }
   ],
   "source": [
    "df_random_sample['value'] = value.sample(frac = 0.5, random_state= 42, ignore_index= True)\n",
    "print(\"Mean of sample: \", df_random_sample['value'] .mean())\n",
    "print(\"Standard Deviation of sample: \", df_random_sample['value'] .std())\n",
    "\n",
    "\n",
    "sns.displot(df_random_sample['value'], kde= False, aspect= 3, height= 5)\n",
    "plt.show()\n",
    "\n",
    "sns.histplot(df_random_sample['value'], kde= True, stat= \"density\", binwidth=0.01)\n",
    "x = sorted(df_random_sample['value'])\n",
    "y = norm.pdf(x, loc=df_random_sample['value'].mean(), scale=df_random_sample['value'].std())\n",
    "plt.plot(x, y, color='r', label='Normal Distribution')\n",
    "plt.legend()\n",
    "plt.show()\n",
    "\n",
    "sns.boxplot(df_random_sample['value'])\n",
    "plt.show()\n",
    "\n",
    "sns.violinplot(df_random_sample['value'] )\n",
    "plt.show()\n"
   ]
  },
  {
   "cell_type": "markdown",
   "metadata": {},
   "source": [
    "### Stratified Sampling"
   ]
  },
  {
   "cell_type": "code",
   "execution_count": 20,
   "metadata": {},
   "outputs": [
    {
     "data": {
      "text/html": [
       "<div>\n",
       "<style scoped>\n",
       "    .dataframe tbody tr th:only-of-type {\n",
       "        vertical-align: middle;\n",
       "    }\n",
       "\n",
       "    .dataframe tbody tr th {\n",
       "        vertical-align: top;\n",
       "    }\n",
       "\n",
       "    .dataframe thead th {\n",
       "        text-align: right;\n",
       "    }\n",
       "</style>\n",
       "<table border=\"1\" class=\"dataframe\">\n",
       "  <thead>\n",
       "    <tr style=\"text-align: right;\">\n",
       "      <th></th>\n",
       "      <th></th>\n",
       "      <th>tnx_hash</th>\n",
       "      <th>method</th>\n",
       "      <th>block</th>\n",
       "      <th>date</th>\n",
       "      <th>from</th>\n",
       "      <th>to</th>\n",
       "      <th>value</th>\n",
       "      <th>tnx_fee</th>\n",
       "    </tr>\n",
       "  </thead>\n",
       "  <tbody>\n",
       "    <tr>\n",
       "      <th rowspan=\"3\" valign=\"top\">0</th>\n",
       "      <th>1208</th>\n",
       "      <td>0xd7a28c22090b72c57dc4b095ab88cc4b0884ecf9a6b8...</td>\n",
       "      <td>Transfer</td>\n",
       "      <td>19389342</td>\n",
       "      <td>2024-03-08 8:46:11</td>\n",
       "      <td>0xe52bb91bf0dd3b9673bbaebb254861b9d6eb7cbc</td>\n",
       "      <td>0x6982508145454ce325ddbe47a25d4ec3d2311933</td>\n",
       "      <td>0.000000e+00</td>\n",
       "      <td>0.005391</td>\n",
       "    </tr>\n",
       "    <tr>\n",
       "      <th>1569</th>\n",
       "      <td>0xf753a91c4855a026c82fcb36b3e480f8937ecc8d9698...</td>\n",
       "      <td>Transfer</td>\n",
       "      <td>19389339</td>\n",
       "      <td>2024-03-08 8:45:35</td>\n",
       "      <td>0x43e2f9ac318c0da9f5a6a46109986a723f8b318e</td>\n",
       "      <td>0xa0b86991c6218b36c1d19d4a2e9eb0ce3606eb48</td>\n",
       "      <td>0.000000e+00</td>\n",
       "      <td>0.002893</td>\n",
       "    </tr>\n",
       "    <tr>\n",
       "      <th>1178</th>\n",
       "      <td>0x829d1c82f53d2be5403bd09c6bedae4e9b2f442761a4...</td>\n",
       "      <td>Withdraw</td>\n",
       "      <td>19389342</td>\n",
       "      <td>2024-03-08 8:46:11</td>\n",
       "      <td>0x4be5075b2dad37015d8c6a9c533d37e733e3db8e</td>\n",
       "      <td>0x3071be11f9e92a9eb28f305e1fa033cd102714e7</td>\n",
       "      <td>0.000000e+00</td>\n",
       "      <td>0.004655</td>\n",
       "    </tr>\n",
       "    <tr>\n",
       "      <th rowspan=\"2\" valign=\"top\">1</th>\n",
       "      <th>1850</th>\n",
       "      <td>0xd378f6622b7a502dca6af5217c727985998ff1c150f8...</td>\n",
       "      <td>0xb59b3a50</td>\n",
       "      <td>19389339</td>\n",
       "      <td>2024-03-08 8:45:35</td>\n",
       "      <td>0x77ad3a15b78101883af36ad4a875e17c86ac65d1</td>\n",
       "      <td>0x00000000a991c429ee2ec6df19d40fe0c80088b8</td>\n",
       "      <td>1.000000e-09</td>\n",
       "      <td>0.061105</td>\n",
       "    </tr>\n",
       "    <tr>\n",
       "      <th>1850</th>\n",
       "      <td>0xd378f6622b7a502dca6af5217c727985998ff1c150f8...</td>\n",
       "      <td>0xb59b3a50</td>\n",
       "      <td>19389339</td>\n",
       "      <td>2024-03-08 8:45:35</td>\n",
       "      <td>0x77ad3a15b78101883af36ad4a875e17c86ac65d1</td>\n",
       "      <td>0x00000000a991c429ee2ec6df19d40fe0c80088b8</td>\n",
       "      <td>1.000000e-09</td>\n",
       "      <td>0.061105</td>\n",
       "    </tr>\n",
       "    <tr>\n",
       "      <th>...</th>\n",
       "      <th>...</th>\n",
       "      <td>...</td>\n",
       "      <td>...</td>\n",
       "      <td>...</td>\n",
       "      <td>...</td>\n",
       "      <td>...</td>\n",
       "      <td>...</td>\n",
       "      <td>...</td>\n",
       "      <td>...</td>\n",
       "    </tr>\n",
       "    <tr>\n",
       "      <th rowspan=\"2\" valign=\"top\">639</th>\n",
       "      <th>2009</th>\n",
       "      <td>0x7e5eca1b676e4aea4792e6caf1d1be361a6ebdcec0b1...</td>\n",
       "      <td>Deposit ETH</td>\n",
       "      <td>19389337</td>\n",
       "      <td>2024-03-08 8:45:11</td>\n",
       "      <td>0xf55d032d99df6934852dba5fdf7726b7fe844c17</td>\n",
       "      <td>0x893411580e590d62ddbca8a703d61cc4a8c7b2b9</td>\n",
       "      <td>1.000280e+03</td>\n",
       "      <td>0.008451</td>\n",
       "    </tr>\n",
       "    <tr>\n",
       "      <th>2009</th>\n",
       "      <td>0x7e5eca1b676e4aea4792e6caf1d1be361a6ebdcec0b1...</td>\n",
       "      <td>Deposit ETH</td>\n",
       "      <td>19389337</td>\n",
       "      <td>2024-03-08 8:45:11</td>\n",
       "      <td>0xf55d032d99df6934852dba5fdf7726b7fe844c17</td>\n",
       "      <td>0x893411580e590d62ddbca8a703d61cc4a8c7b2b9</td>\n",
       "      <td>1.000280e+03</td>\n",
       "      <td>0.008451</td>\n",
       "    </tr>\n",
       "    <tr>\n",
       "      <th rowspan=\"3\" valign=\"top\">640</th>\n",
       "      <th>995</th>\n",
       "      <td>0xbec829efc4fac3bcdef59d9b9b821a8e8250cdf60c3d...</td>\n",
       "      <td>Transfer</td>\n",
       "      <td>19389343</td>\n",
       "      <td>2024-03-08 8:46:23</td>\n",
       "      <td>0xde2a1a6dd691e56fc225d13ab51d4e05ea148f2f</td>\n",
       "      <td>0x36a35fb10d9d273da615f4b658829901326e0d00</td>\n",
       "      <td>1.600490e+04</td>\n",
       "      <td>0.000980</td>\n",
       "    </tr>\n",
       "    <tr>\n",
       "      <th>827</th>\n",
       "      <td>0xbec829efc4fac3bcdef59d9b9b821a8e8250cdf60c3d...</td>\n",
       "      <td>Transfer</td>\n",
       "      <td>19389343</td>\n",
       "      <td>2024-03-08 8:46:23</td>\n",
       "      <td>0xde2a1a6dd691e56fc225d13ab51d4e05ea148f2f</td>\n",
       "      <td>0x36a35fb10d9d273da615f4b658829901326e0d00</td>\n",
       "      <td>1.600490e+04</td>\n",
       "      <td>0.000980</td>\n",
       "    </tr>\n",
       "    <tr>\n",
       "      <th>827</th>\n",
       "      <td>0xbec829efc4fac3bcdef59d9b9b821a8e8250cdf60c3d...</td>\n",
       "      <td>Transfer</td>\n",
       "      <td>19389343</td>\n",
       "      <td>2024-03-08 8:46:23</td>\n",
       "      <td>0xde2a1a6dd691e56fc225d13ab51d4e05ea148f2f</td>\n",
       "      <td>0x36a35fb10d9d273da615f4b658829901326e0d00</td>\n",
       "      <td>1.600490e+04</td>\n",
       "      <td>0.000980</td>\n",
       "    </tr>\n",
       "  </tbody>\n",
       "</table>\n",
       "<p>1923 rows × 8 columns</p>\n",
       "</div>"
      ],
      "text/plain": [
       "                                                   tnx_hash       method  \\\n",
       "0   1208  0xd7a28c22090b72c57dc4b095ab88cc4b0884ecf9a6b8...     Transfer   \n",
       "    1569  0xf753a91c4855a026c82fcb36b3e480f8937ecc8d9698...     Transfer   \n",
       "    1178  0x829d1c82f53d2be5403bd09c6bedae4e9b2f442761a4...     Withdraw   \n",
       "1   1850  0xd378f6622b7a502dca6af5217c727985998ff1c150f8...   0xb59b3a50   \n",
       "    1850  0xd378f6622b7a502dca6af5217c727985998ff1c150f8...   0xb59b3a50   \n",
       "...                                                     ...          ...   \n",
       "639 2009  0x7e5eca1b676e4aea4792e6caf1d1be361a6ebdcec0b1...  Deposit ETH   \n",
       "    2009  0x7e5eca1b676e4aea4792e6caf1d1be361a6ebdcec0b1...  Deposit ETH   \n",
       "640 995   0xbec829efc4fac3bcdef59d9b9b821a8e8250cdf60c3d...     Transfer   \n",
       "    827   0xbec829efc4fac3bcdef59d9b9b821a8e8250cdf60c3d...     Transfer   \n",
       "    827   0xbec829efc4fac3bcdef59d9b9b821a8e8250cdf60c3d...     Transfer   \n",
       "\n",
       "             block                date  \\\n",
       "0   1208  19389342  2024-03-08 8:46:11   \n",
       "    1569  19389339  2024-03-08 8:45:35   \n",
       "    1178  19389342  2024-03-08 8:46:11   \n",
       "1   1850  19389339  2024-03-08 8:45:35   \n",
       "    1850  19389339  2024-03-08 8:45:35   \n",
       "...            ...                 ...   \n",
       "639 2009  19389337  2024-03-08 8:45:11   \n",
       "    2009  19389337  2024-03-08 8:45:11   \n",
       "640 995   19389343  2024-03-08 8:46:23   \n",
       "    827   19389343  2024-03-08 8:46:23   \n",
       "    827   19389343  2024-03-08 8:46:23   \n",
       "\n",
       "                                                from  \\\n",
       "0   1208  0xe52bb91bf0dd3b9673bbaebb254861b9d6eb7cbc   \n",
       "    1569  0x43e2f9ac318c0da9f5a6a46109986a723f8b318e   \n",
       "    1178  0x4be5075b2dad37015d8c6a9c533d37e733e3db8e   \n",
       "1   1850  0x77ad3a15b78101883af36ad4a875e17c86ac65d1   \n",
       "    1850  0x77ad3a15b78101883af36ad4a875e17c86ac65d1   \n",
       "...                                              ...   \n",
       "639 2009  0xf55d032d99df6934852dba5fdf7726b7fe844c17   \n",
       "    2009  0xf55d032d99df6934852dba5fdf7726b7fe844c17   \n",
       "640 995   0xde2a1a6dd691e56fc225d13ab51d4e05ea148f2f   \n",
       "    827   0xde2a1a6dd691e56fc225d13ab51d4e05ea148f2f   \n",
       "    827   0xde2a1a6dd691e56fc225d13ab51d4e05ea148f2f   \n",
       "\n",
       "                                                  to         value   tnx_fee  \n",
       "0   1208  0x6982508145454ce325ddbe47a25d4ec3d2311933  0.000000e+00  0.005391  \n",
       "    1569  0xa0b86991c6218b36c1d19d4a2e9eb0ce3606eb48  0.000000e+00  0.002893  \n",
       "    1178  0x3071be11f9e92a9eb28f305e1fa033cd102714e7  0.000000e+00  0.004655  \n",
       "1   1850  0x00000000a991c429ee2ec6df19d40fe0c80088b8  1.000000e-09  0.061105  \n",
       "    1850  0x00000000a991c429ee2ec6df19d40fe0c80088b8  1.000000e-09  0.061105  \n",
       "...                                              ...           ...       ...  \n",
       "639 2009  0x893411580e590d62ddbca8a703d61cc4a8c7b2b9  1.000280e+03  0.008451  \n",
       "    2009  0x893411580e590d62ddbca8a703d61cc4a8c7b2b9  1.000280e+03  0.008451  \n",
       "640 995   0x36a35fb10d9d273da615f4b658829901326e0d00  1.600490e+04  0.000980  \n",
       "    827   0x36a35fb10d9d273da615f4b658829901326e0d00  1.600490e+04  0.000980  \n",
       "    827   0x36a35fb10d9d273da615f4b658829901326e0d00  1.600490e+04  0.000980  \n",
       "\n",
       "[1923 rows x 8 columns]"
      ]
     },
     "execution_count": 20,
     "metadata": {},
     "output_type": "execute_result"
    }
   ],
   "source": [
    "from sklearn.utils import resample\n",
    "\n",
    "#stratified sampling \n",
    "stratified_sample_value = df.groupby(['value'], as_index=False).apply(lambda x: resample(x, n_samples=3))\n",
    "\n",
    "\n",
    "stratified_sample_value"
   ]
  },
  {
   "cell_type": "code",
   "execution_count": 21,
   "metadata": {},
   "outputs": [
    {
     "data": {
      "text/html": [
       "<div>\n",
       "<style scoped>\n",
       "    .dataframe tbody tr th:only-of-type {\n",
       "        vertical-align: middle;\n",
       "    }\n",
       "\n",
       "    .dataframe tbody tr th {\n",
       "        vertical-align: top;\n",
       "    }\n",
       "\n",
       "    .dataframe thead th {\n",
       "        text-align: right;\n",
       "    }\n",
       "</style>\n",
       "<table border=\"1\" class=\"dataframe\">\n",
       "  <thead>\n",
       "    <tr style=\"text-align: right;\">\n",
       "      <th></th>\n",
       "      <th></th>\n",
       "      <th>tnx_hash</th>\n",
       "      <th>method</th>\n",
       "      <th>block</th>\n",
       "      <th>date</th>\n",
       "      <th>from</th>\n",
       "      <th>to</th>\n",
       "      <th>value</th>\n",
       "      <th>tnx_fee</th>\n",
       "    </tr>\n",
       "  </thead>\n",
       "  <tbody>\n",
       "    <tr>\n",
       "      <th rowspan=\"3\" valign=\"top\">0</th>\n",
       "      <th>729</th>\n",
       "      <td>0xaf88537cf4cbe5c59a29ca6042fdf2ca2ffb70389e62...</td>\n",
       "      <td>Transfer</td>\n",
       "      <td>19389343</td>\n",
       "      <td>2024-03-08 8:46:23</td>\n",
       "      <td>0x93ceb8479989309531e64d9f349eb7399932ff6a</td>\n",
       "      <td>0x2a7b552595b8baed4e0ee18d8090e82639a4c25f</td>\n",
       "      <td>0.016612</td>\n",
       "      <td>0.000959</td>\n",
       "    </tr>\n",
       "    <tr>\n",
       "      <th>913</th>\n",
       "      <td>0x82e22a7bdc91b82dff21042c6858f182dd2626fe8994...</td>\n",
       "      <td>Transfer</td>\n",
       "      <td>19389343</td>\n",
       "      <td>2024-03-08 8:46:23</td>\n",
       "      <td>0x27899fface558bde9f284ba5c8c91ec79ee60fd6</td>\n",
       "      <td>0x836bd87e112671f7b4cf37a68118d925023e9687</td>\n",
       "      <td>0.003725</td>\n",
       "      <td>0.000959</td>\n",
       "    </tr>\n",
       "    <tr>\n",
       "      <th>734</th>\n",
       "      <td>0x8c1434c5353e75261eeae5b2ff5fa97efdf30176597c...</td>\n",
       "      <td>Transfer</td>\n",
       "      <td>19389343</td>\n",
       "      <td>2024-03-08 8:46:23</td>\n",
       "      <td>0xed327c15a41d326010f472470fee3407c8a70c0e</td>\n",
       "      <td>0xecc30a7db5d3184d32ec191eeff6160478eccb6e</td>\n",
       "      <td>1.000000</td>\n",
       "      <td>0.000959</td>\n",
       "    </tr>\n",
       "    <tr>\n",
       "      <th rowspan=\"2\" valign=\"top\">1</th>\n",
       "      <th>939</th>\n",
       "      <td>0x537427f43afd4889028974ec64042af6bc1b788b169d...</td>\n",
       "      <td>Transfer</td>\n",
       "      <td>19389343</td>\n",
       "      <td>2024-03-08 8:46:23</td>\n",
       "      <td>0x549bab881778692d423b64c4b154337f21937173</td>\n",
       "      <td>0x262c2b63ca69299edd407d997ff5b8c122ee3ff8</td>\n",
       "      <td>0.019824</td>\n",
       "      <td>0.000959</td>\n",
       "    </tr>\n",
       "    <tr>\n",
       "      <th>939</th>\n",
       "      <td>0x537427f43afd4889028974ec64042af6bc1b788b169d...</td>\n",
       "      <td>Transfer</td>\n",
       "      <td>19389343</td>\n",
       "      <td>2024-03-08 8:46:23</td>\n",
       "      <td>0x549bab881778692d423b64c4b154337f21937173</td>\n",
       "      <td>0x262c2b63ca69299edd407d997ff5b8c122ee3ff8</td>\n",
       "      <td>0.019824</td>\n",
       "      <td>0.000959</td>\n",
       "    </tr>\n",
       "    <tr>\n",
       "      <th>...</th>\n",
       "      <th>...</th>\n",
       "      <td>...</td>\n",
       "      <td>...</td>\n",
       "      <td>...</td>\n",
       "      <td>...</td>\n",
       "      <td>...</td>\n",
       "      <td>...</td>\n",
       "      <td>...</td>\n",
       "      <td>...</td>\n",
       "    </tr>\n",
       "    <tr>\n",
       "      <th rowspan=\"2\" valign=\"top\">1255</th>\n",
       "      <th>21</th>\n",
       "      <td>0xf14fb66b507e423e674e8fac3111f5e350a839ee8699...</td>\n",
       "      <td>Batch Claim Mint</td>\n",
       "      <td>19389347</td>\n",
       "      <td>2024-03-08 8:47:11</td>\n",
       "      <td>0x88c5ef20dd309523af697874bbb2cabf02d2f10e</td>\n",
       "      <td>0xf19308f923582a6f7c465e5ce7a9dc1bec6665b1</td>\n",
       "      <td>0.000000</td>\n",
       "      <td>0.095983</td>\n",
       "    </tr>\n",
       "    <tr>\n",
       "      <th>21</th>\n",
       "      <td>0xf14fb66b507e423e674e8fac3111f5e350a839ee8699...</td>\n",
       "      <td>Batch Claim Mint</td>\n",
       "      <td>19389347</td>\n",
       "      <td>2024-03-08 8:47:11</td>\n",
       "      <td>0x88c5ef20dd309523af697874bbb2cabf02d2f10e</td>\n",
       "      <td>0xf19308f923582a6f7c465e5ce7a9dc1bec6665b1</td>\n",
       "      <td>0.000000</td>\n",
       "      <td>0.095983</td>\n",
       "    </tr>\n",
       "    <tr>\n",
       "      <th rowspan=\"3\" valign=\"top\">1256</th>\n",
       "      <th>1223</th>\n",
       "      <td>0x02eea9939fe5691d611c3385c9704cf6b88127742f7b...</td>\n",
       "      <td>0x2b7888e6</td>\n",
       "      <td>19389342</td>\n",
       "      <td>2024-03-08 8:46:11</td>\n",
       "      <td>0xae2fc483527b8ef99eb5d9b44875f005ba1fae13</td>\n",
       "      <td>0x6b75d8af000000e20b7a7ddf000ba900b4009a80</td>\n",
       "      <td>158.000000</td>\n",
       "      <td>0.349916</td>\n",
       "    </tr>\n",
       "    <tr>\n",
       "      <th>1223</th>\n",
       "      <td>0x02eea9939fe5691d611c3385c9704cf6b88127742f7b...</td>\n",
       "      <td>0x2b7888e6</td>\n",
       "      <td>19389342</td>\n",
       "      <td>2024-03-08 8:46:11</td>\n",
       "      <td>0xae2fc483527b8ef99eb5d9b44875f005ba1fae13</td>\n",
       "      <td>0x6b75d8af000000e20b7a7ddf000ba900b4009a80</td>\n",
       "      <td>158.000000</td>\n",
       "      <td>0.349916</td>\n",
       "    </tr>\n",
       "    <tr>\n",
       "      <th>1223</th>\n",
       "      <td>0x02eea9939fe5691d611c3385c9704cf6b88127742f7b...</td>\n",
       "      <td>0x2b7888e6</td>\n",
       "      <td>19389342</td>\n",
       "      <td>2024-03-08 8:46:11</td>\n",
       "      <td>0xae2fc483527b8ef99eb5d9b44875f005ba1fae13</td>\n",
       "      <td>0x6b75d8af000000e20b7a7ddf000ba900b4009a80</td>\n",
       "      <td>158.000000</td>\n",
       "      <td>0.349916</td>\n",
       "    </tr>\n",
       "  </tbody>\n",
       "</table>\n",
       "<p>3771 rows × 8 columns</p>\n",
       "</div>"
      ],
      "text/plain": [
       "                                                    tnx_hash  \\\n",
       "0    729   0xaf88537cf4cbe5c59a29ca6042fdf2ca2ffb70389e62...   \n",
       "     913   0x82e22a7bdc91b82dff21042c6858f182dd2626fe8994...   \n",
       "     734   0x8c1434c5353e75261eeae5b2ff5fa97efdf30176597c...   \n",
       "1    939   0x537427f43afd4889028974ec64042af6bc1b788b169d...   \n",
       "     939   0x537427f43afd4889028974ec64042af6bc1b788b169d...   \n",
       "...                                                      ...   \n",
       "1255 21    0xf14fb66b507e423e674e8fac3111f5e350a839ee8699...   \n",
       "     21    0xf14fb66b507e423e674e8fac3111f5e350a839ee8699...   \n",
       "1256 1223  0x02eea9939fe5691d611c3385c9704cf6b88127742f7b...   \n",
       "     1223  0x02eea9939fe5691d611c3385c9704cf6b88127742f7b...   \n",
       "     1223  0x02eea9939fe5691d611c3385c9704cf6b88127742f7b...   \n",
       "\n",
       "                     method     block                date  \\\n",
       "0    729           Transfer  19389343  2024-03-08 8:46:23   \n",
       "     913           Transfer  19389343  2024-03-08 8:46:23   \n",
       "     734           Transfer  19389343  2024-03-08 8:46:23   \n",
       "1    939           Transfer  19389343  2024-03-08 8:46:23   \n",
       "     939           Transfer  19389343  2024-03-08 8:46:23   \n",
       "...                     ...       ...                 ...   \n",
       "1255 21    Batch Claim Mint  19389347  2024-03-08 8:47:11   \n",
       "     21    Batch Claim Mint  19389347  2024-03-08 8:47:11   \n",
       "1256 1223        0x2b7888e6  19389342  2024-03-08 8:46:11   \n",
       "     1223        0x2b7888e6  19389342  2024-03-08 8:46:11   \n",
       "     1223        0x2b7888e6  19389342  2024-03-08 8:46:11   \n",
       "\n",
       "                                                 from  \\\n",
       "0    729   0x93ceb8479989309531e64d9f349eb7399932ff6a   \n",
       "     913   0x27899fface558bde9f284ba5c8c91ec79ee60fd6   \n",
       "     734   0xed327c15a41d326010f472470fee3407c8a70c0e   \n",
       "1    939   0x549bab881778692d423b64c4b154337f21937173   \n",
       "     939   0x549bab881778692d423b64c4b154337f21937173   \n",
       "...                                               ...   \n",
       "1255 21    0x88c5ef20dd309523af697874bbb2cabf02d2f10e   \n",
       "     21    0x88c5ef20dd309523af697874bbb2cabf02d2f10e   \n",
       "1256 1223  0xae2fc483527b8ef99eb5d9b44875f005ba1fae13   \n",
       "     1223  0xae2fc483527b8ef99eb5d9b44875f005ba1fae13   \n",
       "     1223  0xae2fc483527b8ef99eb5d9b44875f005ba1fae13   \n",
       "\n",
       "                                                   to       value   tnx_fee  \n",
       "0    729   0x2a7b552595b8baed4e0ee18d8090e82639a4c25f    0.016612  0.000959  \n",
       "     913   0x836bd87e112671f7b4cf37a68118d925023e9687    0.003725  0.000959  \n",
       "     734   0xecc30a7db5d3184d32ec191eeff6160478eccb6e    1.000000  0.000959  \n",
       "1    939   0x262c2b63ca69299edd407d997ff5b8c122ee3ff8    0.019824  0.000959  \n",
       "     939   0x262c2b63ca69299edd407d997ff5b8c122ee3ff8    0.019824  0.000959  \n",
       "...                                               ...         ...       ...  \n",
       "1255 21    0xf19308f923582a6f7c465e5ce7a9dc1bec6665b1    0.000000  0.095983  \n",
       "     21    0xf19308f923582a6f7c465e5ce7a9dc1bec6665b1    0.000000  0.095983  \n",
       "1256 1223  0x6b75d8af000000e20b7a7ddf000ba900b4009a80  158.000000  0.349916  \n",
       "     1223  0x6b75d8af000000e20b7a7ddf000ba900b4009a80  158.000000  0.349916  \n",
       "     1223  0x6b75d8af000000e20b7a7ddf000ba900b4009a80  158.000000  0.349916  \n",
       "\n",
       "[3771 rows x 8 columns]"
      ]
     },
     "execution_count": 21,
     "metadata": {},
     "output_type": "execute_result"
    }
   ],
   "source": [
    "stratified_sample_tnx_fee = df.groupby(['tnx_fee'], as_index=False).apply(lambda x: resample(x, n_samples=3))\n",
    "stratified_sample_tnx_fee"
   ]
  },
  {
   "cell_type": "markdown",
   "metadata": {},
   "source": [
    "# Questions"
   ]
  },
  {
   "cell_type": "markdown",
   "metadata": {},
   "source": [
    "**1. What are some potential limitations when using web scraping for data collection? Speciﬁcally, what problems did you face while fetching data from Etherscan? What problems can these limitations cause in your analysis?**\n",
    "\n",
    "\n"
   ]
  },
  {
   "cell_type": "markdown",
   "metadata": {},
   "source": [
    "Web scraping for data collection has several limitations to consider. These include changes in website structure, IP blocking or rate limiting, captchas and anti-scraping measures, and potential data inconsistencies or errors. When fetching data from Etherscan or similar blockchain explorers, additional challenges may arise, such as dealing with dynamic content and being mindful of rate limits. These limitations can result in incomplete or interrupted data collection, inaccuracies in the scraped data, and potential biases in the analysis, ultimately impacting the validity and reliability of the findings.\n",
    "\n",
    "To mitigate these limitations, it is important to stay updated with website changes, implement strategies to handle IP blocking or rate limiting, and address captchas or anti-scraping mechanisms as necessary. Additionally, validating the scraped data, cross-referencing with other reliable sources, and conducting thorough data quality checks can help detect and correct inconsistencies or errors. Understanding these limitations and their potential impact on the analysis is crucial for making informed decisions and ensuring the trustworthiness of the collected data and subsequent analysis."
   ]
  },
  {
   "cell_type": "markdown",
   "metadata": {},
   "source": [
    "**2. What can make your analysis untrustworthy? What are your solutions?**"
   ]
  },
  {
   "cell_type": "markdown",
   "metadata": {},
   "source": [
    "Factors that can make an analysis untrustworthy include biased or incomplete data, inaccurate or unreliable data sources,and inappropriate statistical methods or assumptions. Biased or incomplete data can lead to inaccurate conclusions, while unreliable data sources and incorrect assumptions can introduce errors. Inappropriate statistical methods can lead to flawed analysis.\n",
    "\n",
    "To ensure the trustworthiness of an analysis, it is crucial to implement appropriate solutions. This includes ensuring data collection methods are unbiased and representative, validating data through cross-referencing and quality checks,and using appropriate statistical methods and considering model assumptions. By addressing these factors and implementing the solutions, the analysis can be made more reliable, robust, and trustworthy, enhancing the validity and credibility of the findings."
   ]
  },
  {
   "cell_type": "markdown",
   "metadata": {},
   "source": [
    "**3. How did the visualization help you in understanding the data? What could you interpret from the plots?**"
   ]
  },
  {
   "cell_type": "markdown",
   "metadata": {},
   "source": [
    "The visualization helped with understanding the distrubation of the data. It also helped with finding the outliers in our data. Another useful insight given by the visualization is a simpler and better understanding of how the data is distributed."
   ]
  },
  {
   "cell_type": "markdown",
   "metadata": {},
   "source": [
    "**4. How do the two sampling methods differ in their output? Compare these and explain which one is a better ﬁt to the population**  "
   ]
  },
  {
   "cell_type": "markdown",
   "metadata": {},
   "source": [
    "In simple random sampling, each element in the population has an equal chance of being selected independently. Random samples are selected without any consideration for the population's characteristics or attributes. The resulting sample is representative of the overall population, but it may not necessarily reflect the distribution or characteristics of specific subgroups within the population.\n",
    "\n",
    "Stratified sampling involves dividing the population into distinct subgroups or strata based on some shared characteristic or attribute. Random samples are then drawn from each stratum in proportion to its representation in the overall population. This method ensures that each subgroup is adequately represented in the sample, allowing for more precise estimates and analysis within each subgroup. The resulting sample reflects the distribution and characteristics of each stratum, providing more accurate insights into specific subgroups.\n",
    "\n",
    "Simple random sampling is useful when you want a general representation of the entire population and don't require specific information about subgroups. Stratified sampling is useful when you want to ensure representation from different subgroups or when you want to compare and analyze specific subgroups separately."
   ]
  }
 ],
 "metadata": {
  "kernelspec": {
   "display_name": ".venv",
   "language": "python",
   "name": "python3"
  },
  "language_info": {
   "codemirror_mode": {
    "name": "ipython",
    "version": 3
   },
   "file_extension": ".py",
   "mimetype": "text/x-python",
   "name": "python",
   "nbconvert_exporter": "python",
   "pygments_lexer": "ipython3",
   "version": "3.11.4"
  }
 },
 "nbformat": 4,
 "nbformat_minor": 4
}
